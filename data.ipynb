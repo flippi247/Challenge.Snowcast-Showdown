{
 "cells": [
  {
   "cell_type": "markdown",
   "id": "8b43c2e9-f0e4-4050-8b60-41e08827d3f8",
   "metadata": {},
   "source": [
    "# First Test"
   ]
  },
  {
   "cell_type": "code",
   "execution_count": 142,
   "id": "913227aa-83e2-468c-a8fc-5746e8a409a4",
   "metadata": {},
   "outputs": [],
   "source": [
    "import pandas as pd\n",
    "import geopandas as gpd\n",
    "import numpy as np\n",
    "import matplotlib.pyplot as plt\n",
    "plt.rcParams['figure.figsize'] = [15, 10]"
   ]
  },
  {
   "cell_type": "code",
   "execution_count": 289,
   "id": "48ab7618-b45e-4d26-9406-66de299d3f08",
   "metadata": {},
   "outputs": [],
   "source": [
    "train_features = pd.read_csv(\"train/ground_measures_train_features.csv\")\n",
    "test_features = pd.read_csv(\"test/ground_measures_test_features.csv\")\n",
    "train_labels = pd.read_csv(\"train/train_labels.csv\")\n",
    "geodata = gpd.read_file('grid_cells.geojson')\n",
    "ground_measures = pd.read_csv(\"ground_measures_metadata.csv\")"
   ]
  },
  {
   "cell_type": "code",
   "execution_count": 211,
   "id": "c0e8a904",
   "metadata": {},
   "outputs": [],
   "source": [
    "train_labels[\"location\"] = np.nan"
   ]
  },
  {
   "cell_type": "code",
   "execution_count": 74,
   "id": "4741f200",
   "metadata": {},
   "outputs": [
    {
     "name": "stdout",
     "output_type": "stream",
     "text": [
      "(700, 214)\n",
      "(10878, 269)\n",
      "(18130, 3)\n",
      "(700, 6)\n"
     ]
    }
   ],
   "source": [
    "print(train_features.shape)\n",
    "print(train_labels.shape)\n",
    "print(geodata.shape)\n",
    "print(ground_measures.shape)"
   ]
  },
  {
   "cell_type": "code",
   "execution_count": 81,
   "id": "cfc7ba5b-984f-451e-b5a1-a42f87f73257",
   "metadata": {
    "scrolled": true
   },
   "outputs": [],
   "source": [
    "ids_geo = geodata[\"cell_id\"]"
   ]
  },
  {
   "cell_type": "code",
   "execution_count": 80,
   "id": "761554cb",
   "metadata": {
    "scrolled": true
   },
   "outputs": [],
   "source": [
    "ids_train = train_labels[\"cell_id\"]"
   ]
  },
  {
   "cell_type": "code",
   "execution_count": 43,
   "id": "76e4971f",
   "metadata": {
    "scrolled": false
   },
   "outputs": [
    {
     "name": "stdout",
     "output_type": "stream",
     "text": [
      "10878\n"
     ]
    }
   ],
   "source": [
    "c = 0\n",
    "for value in ids_train:\n",
    "    for geo_value in ids_geo:\n",
    "        if value == geo_value:\n",
    "            c += 1\n",
    "            break\n",
    "print(c)"
   ]
  },
  {
   "cell_type": "code",
   "execution_count": 111,
   "id": "bc6b4a35",
   "metadata": {
    "scrolled": true
   },
   "outputs": [
    {
     "data": {
      "text/html": [
       "<div>\n",
       "<style scoped>\n",
       "    .dataframe tbody tr th:only-of-type {\n",
       "        vertical-align: middle;\n",
       "    }\n",
       "\n",
       "    .dataframe tbody tr th {\n",
       "        vertical-align: top;\n",
       "    }\n",
       "\n",
       "    .dataframe thead th {\n",
       "        text-align: right;\n",
       "    }\n",
       "</style>\n",
       "<table border=\"1\" class=\"dataframe\">\n",
       "  <thead>\n",
       "    <tr style=\"text-align: right;\">\n",
       "      <th></th>\n",
       "      <th>index</th>\n",
       "      <th>cell_id</th>\n",
       "      <th>region</th>\n",
       "      <th>geometry</th>\n",
       "    </tr>\n",
       "  </thead>\n",
       "  <tbody>\n",
       "    <tr>\n",
       "      <th>0</th>\n",
       "      <td>0</td>\n",
       "      <td>0003f387-71c4-48f6-b2b0-d853bd4f0aba</td>\n",
       "      <td>sierras</td>\n",
       "      <td>POLYGON ((-118.71895 37.07419, -118.71895 37.0...</td>\n",
       "    </tr>\n",
       "    <tr>\n",
       "      <th>1</th>\n",
       "      <td>1</td>\n",
       "      <td>000617d8-8c14-43e2-b708-7e3a69fe3cc3</td>\n",
       "      <td>central rockies</td>\n",
       "      <td>POLYGON ((-107.07679 37.78042, -107.07679 37.7...</td>\n",
       "    </tr>\n",
       "    <tr>\n",
       "      <th>2</th>\n",
       "      <td>3</td>\n",
       "      <td>000ba8d9-d6d5-48da-84a2-1fa54951fae1</td>\n",
       "      <td>sierras</td>\n",
       "      <td>POLYGON ((-119.32082 37.43171, -119.32082 37.4...</td>\n",
       "    </tr>\n",
       "    <tr>\n",
       "      <th>3</th>\n",
       "      <td>5</td>\n",
       "      <td>0017d1c4-64cb-426d-9158-3f6521d2dd22</td>\n",
       "      <td>sierras</td>\n",
       "      <td>POLYGON ((-119.42862 37.23886, -119.42862 37.2...</td>\n",
       "    </tr>\n",
       "    <tr>\n",
       "      <th>4</th>\n",
       "      <td>6</td>\n",
       "      <td>0020c632-3d5c-4509-b4ee-6b63a89bf2ff</td>\n",
       "      <td>sierras</td>\n",
       "      <td>POLYGON ((-118.89862 36.85168, -118.89862 36.8...</td>\n",
       "    </tr>\n",
       "    <tr>\n",
       "      <th>...</th>\n",
       "      <td>...</td>\n",
       "      <td>...</td>\n",
       "      <td>...</td>\n",
       "      <td>...</td>\n",
       "    </tr>\n",
       "    <tr>\n",
       "      <th>10873</th>\n",
       "      <td>18124</td>\n",
       "      <td>ffdc53d2-5565-496a-b849-4fcf33f33a36</td>\n",
       "      <td>sierras</td>\n",
       "      <td>POLYGON ((-119.09625 37.04552, -119.09625 37.0...</td>\n",
       "    </tr>\n",
       "    <tr>\n",
       "      <th>10874</th>\n",
       "      <td>18125</td>\n",
       "      <td>ffdfb5a4-91a0-41a9-a4d5-501b04ef6326</td>\n",
       "      <td>sierras</td>\n",
       "      <td>POLYGON ((-118.62014 37.11718, -118.62014 37.1...</td>\n",
       "    </tr>\n",
       "    <tr>\n",
       "      <th>10875</th>\n",
       "      <td>18126</td>\n",
       "      <td>ffe43514-2c92-43b6-bd84-d183806aca65</td>\n",
       "      <td>other</td>\n",
       "      <td>POLYGON ((-123.49799 47.90132, -123.49799 47.9...</td>\n",
       "    </tr>\n",
       "    <tr>\n",
       "      <th>10876</th>\n",
       "      <td>18128</td>\n",
       "      <td>fff95195-ccc9-40b7-b302-a0d8570c86bc</td>\n",
       "      <td>other</td>\n",
       "      <td>POLYGON ((-123.37223 47.73242, -123.37223 47.7...</td>\n",
       "    </tr>\n",
       "    <tr>\n",
       "      <th>10877</th>\n",
       "      <td>18129</td>\n",
       "      <td>fffb4d40-5947-4922-9f05-5d8b5a243d84</td>\n",
       "      <td>other</td>\n",
       "      <td>POLYGON ((-123.79443 47.52052, -123.79443 47.5...</td>\n",
       "    </tr>\n",
       "  </tbody>\n",
       "</table>\n",
       "<p>10878 rows × 4 columns</p>\n",
       "</div>"
      ],
      "text/plain": [
       "       index                               cell_id           region  \\\n",
       "0          0  0003f387-71c4-48f6-b2b0-d853bd4f0aba          sierras   \n",
       "1          1  000617d8-8c14-43e2-b708-7e3a69fe3cc3  central rockies   \n",
       "2          3  000ba8d9-d6d5-48da-84a2-1fa54951fae1          sierras   \n",
       "3          5  0017d1c4-64cb-426d-9158-3f6521d2dd22          sierras   \n",
       "4          6  0020c632-3d5c-4509-b4ee-6b63a89bf2ff          sierras   \n",
       "...      ...                                   ...              ...   \n",
       "10873  18124  ffdc53d2-5565-496a-b849-4fcf33f33a36          sierras   \n",
       "10874  18125  ffdfb5a4-91a0-41a9-a4d5-501b04ef6326          sierras   \n",
       "10875  18126  ffe43514-2c92-43b6-bd84-d183806aca65            other   \n",
       "10876  18128  fff95195-ccc9-40b7-b302-a0d8570c86bc            other   \n",
       "10877  18129  fffb4d40-5947-4922-9f05-5d8b5a243d84            other   \n",
       "\n",
       "                                                geometry  \n",
       "0      POLYGON ((-118.71895 37.07419, -118.71895 37.0...  \n",
       "1      POLYGON ((-107.07679 37.78042, -107.07679 37.7...  \n",
       "2      POLYGON ((-119.32082 37.43171, -119.32082 37.4...  \n",
       "3      POLYGON ((-119.42862 37.23886, -119.42862 37.2...  \n",
       "4      POLYGON ((-118.89862 36.85168, -118.89862 36.8...  \n",
       "...                                                  ...  \n",
       "10873  POLYGON ((-119.09625 37.04552, -119.09625 37.0...  \n",
       "10874  POLYGON ((-118.62014 37.11718, -118.62014 37.1...  \n",
       "10875  POLYGON ((-123.49799 47.90132, -123.49799 47.9...  \n",
       "10876  POLYGON ((-123.37223 47.73242, -123.37223 47.7...  \n",
       "10877  POLYGON ((-123.79443 47.52052, -123.79443 47.5...  \n",
       "\n",
       "[10878 rows x 4 columns]"
      ]
     },
     "execution_count": 111,
     "metadata": {},
     "output_type": "execute_result"
    }
   ],
   "source": [
    "geodata[ids_geo.isin(ids_train)].reset_index()"
   ]
  },
  {
   "cell_type": "code",
   "execution_count": 121,
   "id": "754e9a5a",
   "metadata": {
    "scrolled": true
   },
   "outputs": [
    {
     "data": {
      "text/plain": [
       "True"
      ]
     },
     "execution_count": 121,
     "metadata": {},
     "output_type": "execute_result"
    }
   ],
   "source": [
    "all(geodata[ids_geo.isin(ids_train)][\"cell_id\"].reset_index()[\"cell_id\"] == ids_train)"
   ]
  },
  {
   "cell_type": "code",
   "execution_count": 212,
   "id": "189e0910",
   "metadata": {},
   "outputs": [],
   "source": [
    "train_labels[\"location\"] = geodata[ids_geo.isin(ids_train)].reset_index()[\"geometry\"]"
   ]
  },
  {
   "cell_type": "code",
   "execution_count": 213,
   "id": "de70e4cd",
   "metadata": {},
   "outputs": [
    {
     "data": {
      "text/html": [
       "<div>\n",
       "<style scoped>\n",
       "    .dataframe tbody tr th:only-of-type {\n",
       "        vertical-align: middle;\n",
       "    }\n",
       "\n",
       "    .dataframe tbody tr th {\n",
       "        vertical-align: top;\n",
       "    }\n",
       "\n",
       "    .dataframe thead th {\n",
       "        text-align: right;\n",
       "    }\n",
       "</style>\n",
       "<table border=\"1\" class=\"dataframe\">\n",
       "  <thead>\n",
       "    <tr style=\"text-align: right;\">\n",
       "      <th></th>\n",
       "      <th>cell_id</th>\n",
       "      <th>2013-01-01</th>\n",
       "      <th>2013-01-08</th>\n",
       "      <th>2013-01-15</th>\n",
       "      <th>2013-01-22</th>\n",
       "      <th>2013-01-29</th>\n",
       "      <th>2013-02-05</th>\n",
       "      <th>2013-02-12</th>\n",
       "      <th>2013-02-19</th>\n",
       "      <th>2013-02-26</th>\n",
       "      <th>...</th>\n",
       "      <th>2019-06-14</th>\n",
       "      <th>2019-06-18</th>\n",
       "      <th>2019-06-24</th>\n",
       "      <th>2019-06-25</th>\n",
       "      <th>2019-12-03</th>\n",
       "      <th>2019-12-10</th>\n",
       "      <th>2019-12-17</th>\n",
       "      <th>2019-12-24</th>\n",
       "      <th>2019-12-31</th>\n",
       "      <th>location</th>\n",
       "    </tr>\n",
       "  </thead>\n",
       "  <tbody>\n",
       "    <tr>\n",
       "      <th>0</th>\n",
       "      <td>0003f387-71c4-48f6-b2b0-d853bd4f0aba</td>\n",
       "      <td>NaN</td>\n",
       "      <td>NaN</td>\n",
       "      <td>NaN</td>\n",
       "      <td>NaN</td>\n",
       "      <td>NaN</td>\n",
       "      <td>NaN</td>\n",
       "      <td>NaN</td>\n",
       "      <td>NaN</td>\n",
       "      <td>NaN</td>\n",
       "      <td>...</td>\n",
       "      <td>NaN</td>\n",
       "      <td>NaN</td>\n",
       "      <td>NaN</td>\n",
       "      <td>NaN</td>\n",
       "      <td>NaN</td>\n",
       "      <td>NaN</td>\n",
       "      <td>NaN</td>\n",
       "      <td>NaN</td>\n",
       "      <td>NaN</td>\n",
       "      <td>POLYGON ((-118.71895 37.07419, -118.71895 37.0...</td>\n",
       "    </tr>\n",
       "    <tr>\n",
       "      <th>1</th>\n",
       "      <td>000617d8-8c14-43e2-b708-7e3a69fe3cc3</td>\n",
       "      <td>NaN</td>\n",
       "      <td>NaN</td>\n",
       "      <td>NaN</td>\n",
       "      <td>NaN</td>\n",
       "      <td>NaN</td>\n",
       "      <td>NaN</td>\n",
       "      <td>NaN</td>\n",
       "      <td>NaN</td>\n",
       "      <td>NaN</td>\n",
       "      <td>...</td>\n",
       "      <td>NaN</td>\n",
       "      <td>NaN</td>\n",
       "      <td>NaN</td>\n",
       "      <td>NaN</td>\n",
       "      <td>NaN</td>\n",
       "      <td>NaN</td>\n",
       "      <td>NaN</td>\n",
       "      <td>NaN</td>\n",
       "      <td>NaN</td>\n",
       "      <td>POLYGON ((-107.07679 37.78042, -107.07679 37.7...</td>\n",
       "    </tr>\n",
       "    <tr>\n",
       "      <th>2</th>\n",
       "      <td>000ba8d9-d6d5-48da-84a2-1fa54951fae1</td>\n",
       "      <td>NaN</td>\n",
       "      <td>NaN</td>\n",
       "      <td>NaN</td>\n",
       "      <td>NaN</td>\n",
       "      <td>NaN</td>\n",
       "      <td>NaN</td>\n",
       "      <td>NaN</td>\n",
       "      <td>NaN</td>\n",
       "      <td>NaN</td>\n",
       "      <td>...</td>\n",
       "      <td>0.0</td>\n",
       "      <td>NaN</td>\n",
       "      <td>NaN</td>\n",
       "      <td>NaN</td>\n",
       "      <td>NaN</td>\n",
       "      <td>NaN</td>\n",
       "      <td>NaN</td>\n",
       "      <td>NaN</td>\n",
       "      <td>NaN</td>\n",
       "      <td>POLYGON ((-119.32082 37.43171, -119.32082 37.4...</td>\n",
       "    </tr>\n",
       "    <tr>\n",
       "      <th>3</th>\n",
       "      <td>0017d1c4-64cb-426d-9158-3f6521d2dd22</td>\n",
       "      <td>NaN</td>\n",
       "      <td>NaN</td>\n",
       "      <td>NaN</td>\n",
       "      <td>NaN</td>\n",
       "      <td>NaN</td>\n",
       "      <td>NaN</td>\n",
       "      <td>NaN</td>\n",
       "      <td>NaN</td>\n",
       "      <td>NaN</td>\n",
       "      <td>...</td>\n",
       "      <td>NaN</td>\n",
       "      <td>NaN</td>\n",
       "      <td>NaN</td>\n",
       "      <td>NaN</td>\n",
       "      <td>NaN</td>\n",
       "      <td>NaN</td>\n",
       "      <td>NaN</td>\n",
       "      <td>NaN</td>\n",
       "      <td>NaN</td>\n",
       "      <td>POLYGON ((-119.42862 37.23886, -119.42862 37.2...</td>\n",
       "    </tr>\n",
       "    <tr>\n",
       "      <th>4</th>\n",
       "      <td>0020c632-3d5c-4509-b4ee-6b63a89bf2ff</td>\n",
       "      <td>NaN</td>\n",
       "      <td>NaN</td>\n",
       "      <td>NaN</td>\n",
       "      <td>NaN</td>\n",
       "      <td>NaN</td>\n",
       "      <td>NaN</td>\n",
       "      <td>NaN</td>\n",
       "      <td>NaN</td>\n",
       "      <td>NaN</td>\n",
       "      <td>...</td>\n",
       "      <td>NaN</td>\n",
       "      <td>NaN</td>\n",
       "      <td>NaN</td>\n",
       "      <td>NaN</td>\n",
       "      <td>NaN</td>\n",
       "      <td>NaN</td>\n",
       "      <td>NaN</td>\n",
       "      <td>NaN</td>\n",
       "      <td>NaN</td>\n",
       "      <td>POLYGON ((-118.89862 36.85168, -118.89862 36.8...</td>\n",
       "    </tr>\n",
       "    <tr>\n",
       "      <th>...</th>\n",
       "      <td>...</td>\n",
       "      <td>...</td>\n",
       "      <td>...</td>\n",
       "      <td>...</td>\n",
       "      <td>...</td>\n",
       "      <td>...</td>\n",
       "      <td>...</td>\n",
       "      <td>...</td>\n",
       "      <td>...</td>\n",
       "      <td>...</td>\n",
       "      <td>...</td>\n",
       "      <td>...</td>\n",
       "      <td>...</td>\n",
       "      <td>...</td>\n",
       "      <td>...</td>\n",
       "      <td>...</td>\n",
       "      <td>...</td>\n",
       "      <td>...</td>\n",
       "      <td>...</td>\n",
       "      <td>...</td>\n",
       "      <td>...</td>\n",
       "    </tr>\n",
       "    <tr>\n",
       "      <th>10873</th>\n",
       "      <td>ffdc53d2-5565-496a-b849-4fcf33f33a36</td>\n",
       "      <td>NaN</td>\n",
       "      <td>NaN</td>\n",
       "      <td>NaN</td>\n",
       "      <td>NaN</td>\n",
       "      <td>NaN</td>\n",
       "      <td>NaN</td>\n",
       "      <td>NaN</td>\n",
       "      <td>NaN</td>\n",
       "      <td>NaN</td>\n",
       "      <td>...</td>\n",
       "      <td>NaN</td>\n",
       "      <td>NaN</td>\n",
       "      <td>NaN</td>\n",
       "      <td>NaN</td>\n",
       "      <td>NaN</td>\n",
       "      <td>NaN</td>\n",
       "      <td>NaN</td>\n",
       "      <td>NaN</td>\n",
       "      <td>NaN</td>\n",
       "      <td>POLYGON ((-119.09625 37.04552, -119.09625 37.0...</td>\n",
       "    </tr>\n",
       "    <tr>\n",
       "      <th>10874</th>\n",
       "      <td>ffdfb5a4-91a0-41a9-a4d5-501b04ef6326</td>\n",
       "      <td>NaN</td>\n",
       "      <td>NaN</td>\n",
       "      <td>NaN</td>\n",
       "      <td>NaN</td>\n",
       "      <td>NaN</td>\n",
       "      <td>NaN</td>\n",
       "      <td>NaN</td>\n",
       "      <td>NaN</td>\n",
       "      <td>NaN</td>\n",
       "      <td>...</td>\n",
       "      <td>NaN</td>\n",
       "      <td>NaN</td>\n",
       "      <td>NaN</td>\n",
       "      <td>NaN</td>\n",
       "      <td>NaN</td>\n",
       "      <td>NaN</td>\n",
       "      <td>NaN</td>\n",
       "      <td>NaN</td>\n",
       "      <td>NaN</td>\n",
       "      <td>POLYGON ((-118.62014 37.11718, -118.62014 37.1...</td>\n",
       "    </tr>\n",
       "    <tr>\n",
       "      <th>10875</th>\n",
       "      <td>ffe43514-2c92-43b6-bd84-d183806aca65</td>\n",
       "      <td>NaN</td>\n",
       "      <td>NaN</td>\n",
       "      <td>NaN</td>\n",
       "      <td>NaN</td>\n",
       "      <td>NaN</td>\n",
       "      <td>NaN</td>\n",
       "      <td>NaN</td>\n",
       "      <td>NaN</td>\n",
       "      <td>NaN</td>\n",
       "      <td>...</td>\n",
       "      <td>NaN</td>\n",
       "      <td>NaN</td>\n",
       "      <td>NaN</td>\n",
       "      <td>NaN</td>\n",
       "      <td>NaN</td>\n",
       "      <td>NaN</td>\n",
       "      <td>NaN</td>\n",
       "      <td>NaN</td>\n",
       "      <td>NaN</td>\n",
       "      <td>POLYGON ((-123.49799 47.90132, -123.49799 47.9...</td>\n",
       "    </tr>\n",
       "    <tr>\n",
       "      <th>10876</th>\n",
       "      <td>fff95195-ccc9-40b7-b302-a0d8570c86bc</td>\n",
       "      <td>NaN</td>\n",
       "      <td>NaN</td>\n",
       "      <td>NaN</td>\n",
       "      <td>NaN</td>\n",
       "      <td>NaN</td>\n",
       "      <td>NaN</td>\n",
       "      <td>NaN</td>\n",
       "      <td>NaN</td>\n",
       "      <td>NaN</td>\n",
       "      <td>...</td>\n",
       "      <td>NaN</td>\n",
       "      <td>NaN</td>\n",
       "      <td>NaN</td>\n",
       "      <td>NaN</td>\n",
       "      <td>NaN</td>\n",
       "      <td>NaN</td>\n",
       "      <td>NaN</td>\n",
       "      <td>NaN</td>\n",
       "      <td>NaN</td>\n",
       "      <td>POLYGON ((-123.37223 47.73242, -123.37223 47.7...</td>\n",
       "    </tr>\n",
       "    <tr>\n",
       "      <th>10877</th>\n",
       "      <td>fffb4d40-5947-4922-9f05-5d8b5a243d84</td>\n",
       "      <td>NaN</td>\n",
       "      <td>NaN</td>\n",
       "      <td>NaN</td>\n",
       "      <td>NaN</td>\n",
       "      <td>NaN</td>\n",
       "      <td>NaN</td>\n",
       "      <td>NaN</td>\n",
       "      <td>NaN</td>\n",
       "      <td>NaN</td>\n",
       "      <td>...</td>\n",
       "      <td>NaN</td>\n",
       "      <td>NaN</td>\n",
       "      <td>NaN</td>\n",
       "      <td>NaN</td>\n",
       "      <td>NaN</td>\n",
       "      <td>NaN</td>\n",
       "      <td>NaN</td>\n",
       "      <td>NaN</td>\n",
       "      <td>NaN</td>\n",
       "      <td>POLYGON ((-123.79443 47.52052, -123.79443 47.5...</td>\n",
       "    </tr>\n",
       "  </tbody>\n",
       "</table>\n",
       "<p>10878 rows × 269 columns</p>\n",
       "</div>"
      ],
      "text/plain": [
       "                                    cell_id  2013-01-01  2013-01-08  \\\n",
       "0      0003f387-71c4-48f6-b2b0-d853bd4f0aba         NaN         NaN   \n",
       "1      000617d8-8c14-43e2-b708-7e3a69fe3cc3         NaN         NaN   \n",
       "2      000ba8d9-d6d5-48da-84a2-1fa54951fae1         NaN         NaN   \n",
       "3      0017d1c4-64cb-426d-9158-3f6521d2dd22         NaN         NaN   \n",
       "4      0020c632-3d5c-4509-b4ee-6b63a89bf2ff         NaN         NaN   \n",
       "...                                     ...         ...         ...   \n",
       "10873  ffdc53d2-5565-496a-b849-4fcf33f33a36         NaN         NaN   \n",
       "10874  ffdfb5a4-91a0-41a9-a4d5-501b04ef6326         NaN         NaN   \n",
       "10875  ffe43514-2c92-43b6-bd84-d183806aca65         NaN         NaN   \n",
       "10876  fff95195-ccc9-40b7-b302-a0d8570c86bc         NaN         NaN   \n",
       "10877  fffb4d40-5947-4922-9f05-5d8b5a243d84         NaN         NaN   \n",
       "\n",
       "       2013-01-15  2013-01-22  2013-01-29  2013-02-05  2013-02-12  2013-02-19  \\\n",
       "0             NaN         NaN         NaN         NaN         NaN         NaN   \n",
       "1             NaN         NaN         NaN         NaN         NaN         NaN   \n",
       "2             NaN         NaN         NaN         NaN         NaN         NaN   \n",
       "3             NaN         NaN         NaN         NaN         NaN         NaN   \n",
       "4             NaN         NaN         NaN         NaN         NaN         NaN   \n",
       "...           ...         ...         ...         ...         ...         ...   \n",
       "10873         NaN         NaN         NaN         NaN         NaN         NaN   \n",
       "10874         NaN         NaN         NaN         NaN         NaN         NaN   \n",
       "10875         NaN         NaN         NaN         NaN         NaN         NaN   \n",
       "10876         NaN         NaN         NaN         NaN         NaN         NaN   \n",
       "10877         NaN         NaN         NaN         NaN         NaN         NaN   \n",
       "\n",
       "       2013-02-26  ...  2019-06-14  2019-06-18  2019-06-24  2019-06-25  \\\n",
       "0             NaN  ...         NaN         NaN         NaN         NaN   \n",
       "1             NaN  ...         NaN         NaN         NaN         NaN   \n",
       "2             NaN  ...         0.0         NaN         NaN         NaN   \n",
       "3             NaN  ...         NaN         NaN         NaN         NaN   \n",
       "4             NaN  ...         NaN         NaN         NaN         NaN   \n",
       "...           ...  ...         ...         ...         ...         ...   \n",
       "10873         NaN  ...         NaN         NaN         NaN         NaN   \n",
       "10874         NaN  ...         NaN         NaN         NaN         NaN   \n",
       "10875         NaN  ...         NaN         NaN         NaN         NaN   \n",
       "10876         NaN  ...         NaN         NaN         NaN         NaN   \n",
       "10877         NaN  ...         NaN         NaN         NaN         NaN   \n",
       "\n",
       "       2019-12-03  2019-12-10  2019-12-17  2019-12-24  2019-12-31  \\\n",
       "0             NaN         NaN         NaN         NaN         NaN   \n",
       "1             NaN         NaN         NaN         NaN         NaN   \n",
       "2             NaN         NaN         NaN         NaN         NaN   \n",
       "3             NaN         NaN         NaN         NaN         NaN   \n",
       "4             NaN         NaN         NaN         NaN         NaN   \n",
       "...           ...         ...         ...         ...         ...   \n",
       "10873         NaN         NaN         NaN         NaN         NaN   \n",
       "10874         NaN         NaN         NaN         NaN         NaN   \n",
       "10875         NaN         NaN         NaN         NaN         NaN   \n",
       "10876         NaN         NaN         NaN         NaN         NaN   \n",
       "10877         NaN         NaN         NaN         NaN         NaN   \n",
       "\n",
       "                                                location  \n",
       "0      POLYGON ((-118.71895 37.07419, -118.71895 37.0...  \n",
       "1      POLYGON ((-107.07679 37.78042, -107.07679 37.7...  \n",
       "2      POLYGON ((-119.32082 37.43171, -119.32082 37.4...  \n",
       "3      POLYGON ((-119.42862 37.23886, -119.42862 37.2...  \n",
       "4      POLYGON ((-118.89862 36.85168, -118.89862 36.8...  \n",
       "...                                                  ...  \n",
       "10873  POLYGON ((-119.09625 37.04552, -119.09625 37.0...  \n",
       "10874  POLYGON ((-118.62014 37.11718, -118.62014 37.1...  \n",
       "10875  POLYGON ((-123.49799 47.90132, -123.49799 47.9...  \n",
       "10876  POLYGON ((-123.37223 47.73242, -123.37223 47.7...  \n",
       "10877  POLYGON ((-123.79443 47.52052, -123.79443 47.5...  \n",
       "\n",
       "[10878 rows x 269 columns]"
      ]
     },
     "execution_count": 213,
     "metadata": {},
     "output_type": "execute_result"
    }
   ],
   "source": [
    "train_labels"
   ]
  },
  {
   "cell_type": "code",
   "execution_count": 79,
   "id": "f5de6c1b",
   "metadata": {},
   "outputs": [
    {
     "data": {
      "text/plain": [
       "0         True\n",
       "1         True\n",
       "2        False\n",
       "3         True\n",
       "4        False\n",
       "         ...  \n",
       "18125     True\n",
       "18126     True\n",
       "18127    False\n",
       "18128     True\n",
       "18129     True\n",
       "Name: cell_id, Length: 18130, dtype: bool"
      ]
     },
     "execution_count": 79,
     "metadata": {},
     "output_type": "execute_result"
    }
   ],
   "source": [
    "ids_geo.isin(ids_train)"
   ]
  },
  {
   "cell_type": "code",
   "execution_count": 42,
   "id": "d75c6943",
   "metadata": {
    "scrolled": true
   },
   "outputs": [
    {
     "data": {
      "text/plain": [
       "[[-118.7189531728198, 37.07419231005138],\n",
       " [-118.7189531728198, 37.08135922968016],\n",
       " [-118.727936325661, 37.08135922968016],\n",
       " [-118.727936325661, 37.07419231005138],\n",
       " [-118.7189531728198, 37.07419231005138]]"
      ]
     },
     "execution_count": 42,
     "metadata": {},
     "output_type": "execute_result"
    }
   ],
   "source": [
    "[[ -118.718953172819795, 37.07419231005138 ], [ -118.718953172819795, 37.08135922968016 ], [ -118.727936325661005, 37.08135922968016 ], [ -118.727936325661005, 37.07419231005138 ], [ -118.718953172819795, 37.07419231005138 ] ]"
   ]
  },
  {
   "cell_type": "code",
   "execution_count": 48,
   "id": "32645ac3",
   "metadata": {
    "scrolled": true
   },
   "outputs": [
    {
     "data": {
      "text/html": [
       "<div>\n",
       "<style scoped>\n",
       "    .dataframe tbody tr th:only-of-type {\n",
       "        vertical-align: middle;\n",
       "    }\n",
       "\n",
       "    .dataframe tbody tr th {\n",
       "        vertical-align: top;\n",
       "    }\n",
       "\n",
       "    .dataframe thead th {\n",
       "        text-align: right;\n",
       "    }\n",
       "</style>\n",
       "<table border=\"1\" class=\"dataframe\">\n",
       "  <thead>\n",
       "    <tr style=\"text-align: right;\">\n",
       "      <th></th>\n",
       "      <th>station_id</th>\n",
       "      <th>name</th>\n",
       "      <th>elevation_m</th>\n",
       "      <th>latitude</th>\n",
       "      <th>longitude</th>\n",
       "      <th>state</th>\n",
       "    </tr>\n",
       "  </thead>\n",
       "  <tbody>\n",
       "    <tr>\n",
       "      <th>0</th>\n",
       "      <td>CDEC:ADM</td>\n",
       "      <td>Adin Mountain</td>\n",
       "      <td>1889.760000</td>\n",
       "      <td>41.237000</td>\n",
       "      <td>-120.792000</td>\n",
       "      <td>California</td>\n",
       "    </tr>\n",
       "    <tr>\n",
       "      <th>1</th>\n",
       "      <td>CDEC:AGP</td>\n",
       "      <td>Agnew Pass</td>\n",
       "      <td>2880.360000</td>\n",
       "      <td>37.726631</td>\n",
       "      <td>-119.141731</td>\n",
       "      <td>California</td>\n",
       "    </tr>\n",
       "    <tr>\n",
       "      <th>2</th>\n",
       "      <td>CDEC:ALP</td>\n",
       "      <td>Alpha (Smud)</td>\n",
       "      <td>2316.480000</td>\n",
       "      <td>38.804192</td>\n",
       "      <td>-120.215652</td>\n",
       "      <td>California</td>\n",
       "    </tr>\n",
       "    <tr>\n",
       "      <th>3</th>\n",
       "      <td>CDEC:BCB</td>\n",
       "      <td>Blackcap Basin</td>\n",
       "      <td>3139.440000</td>\n",
       "      <td>37.066685</td>\n",
       "      <td>-118.773010</td>\n",
       "      <td>California</td>\n",
       "    </tr>\n",
       "    <tr>\n",
       "      <th>4</th>\n",
       "      <td>CDEC:BCH</td>\n",
       "      <td>Beach Meadows</td>\n",
       "      <td>2331.720000</td>\n",
       "      <td>36.126095</td>\n",
       "      <td>-118.293457</td>\n",
       "      <td>California</td>\n",
       "    </tr>\n",
       "    <tr>\n",
       "      <th>...</th>\n",
       "      <td>...</td>\n",
       "      <td>...</td>\n",
       "      <td>...</td>\n",
       "      <td>...</td>\n",
       "      <td>...</td>\n",
       "      <td>...</td>\n",
       "    </tr>\n",
       "    <tr>\n",
       "      <th>695</th>\n",
       "      <td>SNOTEL:989_ID_SNTL</td>\n",
       "      <td>Moscow Mountain</td>\n",
       "      <td>1432.560059</td>\n",
       "      <td>46.805000</td>\n",
       "      <td>-116.853500</td>\n",
       "      <td>Idaho</td>\n",
       "    </tr>\n",
       "    <tr>\n",
       "      <th>696</th>\n",
       "      <td>SNOTEL:990_WA_SNTL</td>\n",
       "      <td>Beaver Pass</td>\n",
       "      <td>1106.423950</td>\n",
       "      <td>48.879299</td>\n",
       "      <td>-121.255501</td>\n",
       "      <td>Washington</td>\n",
       "    </tr>\n",
       "    <tr>\n",
       "      <th>697</th>\n",
       "      <td>SNOTEL:992_UT_SNTL</td>\n",
       "      <td>Bear River RS</td>\n",
       "      <td>2675.229492</td>\n",
       "      <td>40.885201</td>\n",
       "      <td>-110.827698</td>\n",
       "      <td>Utah</td>\n",
       "    </tr>\n",
       "    <tr>\n",
       "      <th>698</th>\n",
       "      <td>SNOTEL:998_WA_SNTL</td>\n",
       "      <td>Easy Pass</td>\n",
       "      <td>1606.296021</td>\n",
       "      <td>48.859329</td>\n",
       "      <td>-121.438950</td>\n",
       "      <td>Washington</td>\n",
       "    </tr>\n",
       "    <tr>\n",
       "      <th>699</th>\n",
       "      <td>SNOTEL:999_WA_SNTL</td>\n",
       "      <td>Marten Ridge</td>\n",
       "      <td>1072.895996</td>\n",
       "      <td>48.762920</td>\n",
       "      <td>-121.698227</td>\n",
       "      <td>Washington</td>\n",
       "    </tr>\n",
       "  </tbody>\n",
       "</table>\n",
       "<p>700 rows × 6 columns</p>\n",
       "</div>"
      ],
      "text/plain": [
       "             station_id             name  elevation_m   latitude   longitude  \\\n",
       "0              CDEC:ADM    Adin Mountain  1889.760000  41.237000 -120.792000   \n",
       "1              CDEC:AGP       Agnew Pass  2880.360000  37.726631 -119.141731   \n",
       "2              CDEC:ALP     Alpha (Smud)  2316.480000  38.804192 -120.215652   \n",
       "3              CDEC:BCB   Blackcap Basin  3139.440000  37.066685 -118.773010   \n",
       "4              CDEC:BCH    Beach Meadows  2331.720000  36.126095 -118.293457   \n",
       "..                  ...              ...          ...        ...         ...   \n",
       "695  SNOTEL:989_ID_SNTL  Moscow Mountain  1432.560059  46.805000 -116.853500   \n",
       "696  SNOTEL:990_WA_SNTL      Beaver Pass  1106.423950  48.879299 -121.255501   \n",
       "697  SNOTEL:992_UT_SNTL    Bear River RS  2675.229492  40.885201 -110.827698   \n",
       "698  SNOTEL:998_WA_SNTL        Easy Pass  1606.296021  48.859329 -121.438950   \n",
       "699  SNOTEL:999_WA_SNTL     Marten Ridge  1072.895996  48.762920 -121.698227   \n",
       "\n",
       "          state  \n",
       "0    California  \n",
       "1    California  \n",
       "2    California  \n",
       "3    California  \n",
       "4    California  \n",
       "..          ...  \n",
       "695       Idaho  \n",
       "696  Washington  \n",
       "697        Utah  \n",
       "698  Washington  \n",
       "699  Washington  \n",
       "\n",
       "[700 rows x 6 columns]"
      ]
     },
     "execution_count": 48,
     "metadata": {},
     "output_type": "execute_result"
    }
   ],
   "source": [
    "ground_measures"
   ]
  },
  {
   "cell_type": "code",
   "execution_count": null,
   "id": "4a26fe1d",
   "metadata": {},
   "outputs": [],
   "source": [
    "labels_location"
   ]
  },
  {
   "cell_type": "code",
   "execution_count": 144,
   "id": "cf373ca3",
   "metadata": {},
   "outputs": [
    {
     "data": {
      "image/png": "[encoded data removed]",
      "text/plain": [
       "<Figure size 1080x720 with 1 Axes>"
      ]
     },
     "metadata": {
      "needs_background": "light"
     },
     "output_type": "display_data"
    }
   ],
   "source": [
    "fig, ax = plt.subplots()\n",
    "for g in np.unique(ground_measures[\"state\"]):\n",
    "    ix = np.where(ground_measures[\"state\"] == g)\n",
    "    x = ground_measures.iloc[ix][\"latitude\"]\n",
    "    y = ground_measures.iloc[ix][\"longitude\"]\n",
    "    ax.scatter(x, y, label = g, s = 10)\n",
    "ax.legend()\n",
    "plt.show()"
   ]
  },
  {
   "cell_type": "code",
   "execution_count": 130,
   "id": "23263a65",
   "metadata": {},
   "outputs": [
    {
     "data": {
      "text/plain": [
       "(array('d', [-118.7189531728198, -118.7189531728198, -118.727936325661, -118.727936325661, -118.7189531728198]),\n",
       " array('d', [37.07419231005138, 37.08135922968016, 37.08135922968016, 37.07419231005138, 37.07419231005138]))"
      ]
     },
     "execution_count": 130,
     "metadata": {},
     "output_type": "execute_result"
    }
   ],
   "source": [
    "geodata[\"geometry\"][0].exterior.coords.xy"
   ]
  },
  {
   "cell_type": "code",
   "execution_count": 131,
   "id": "5cd70728",
   "metadata": {},
   "outputs": [],
   "source": [
    "def get_middle(pg):\n",
    "    xy = pg.exterior.coords.xy\n",
    "    x, y = xy[0], xy[1]\n",
    "    x1, x2 = x[0], x[1]\n",
    "    y1, y2 = y[0], y[1]\n",
    "    mid_x = (x1 + x2) / 2\n",
    "    mid_y = (y1 + y2) / 2\n",
    "    assert x1 <= mid_x <= x2, \"Something is off: x\"\n",
    "    assert y1 <= mid_y <= y2, \"Something is off: y\"\n",
    "    return mid_x, mid_y"
   ]
  },
  {
   "cell_type": "code",
   "execution_count": null,
   "id": "87f33923",
   "metadata": {
    "scrolled": true
   },
   "outputs": [],
   "source": [
    "for p in geodata[\"geometry\"]:\n",
    "    print(get_middle(p))"
   ]
  },
  {
   "cell_type": "code",
   "execution_count": 214,
   "id": "46dfdb23",
   "metadata": {},
   "outputs": [],
   "source": [
    "train_labels[\"location\"] = train_labels[\"location\"].apply(get_middle)"
   ]
  },
  {
   "cell_type": "code",
   "execution_count": 215,
   "id": "b0d88a64",
   "metadata": {
    "scrolled": true
   },
   "outputs": [
    {
     "data": {
      "text/html": [
       "<div>\n",
       "<style scoped>\n",
       "    .dataframe tbody tr th:only-of-type {\n",
       "        vertical-align: middle;\n",
       "    }\n",
       "\n",
       "    .dataframe tbody tr th {\n",
       "        vertical-align: top;\n",
       "    }\n",
       "\n",
       "    .dataframe thead th {\n",
       "        text-align: right;\n",
       "    }\n",
       "</style>\n",
       "<table border=\"1\" class=\"dataframe\">\n",
       "  <thead>\n",
       "    <tr style=\"text-align: right;\">\n",
       "      <th></th>\n",
       "      <th>cell_id</th>\n",
       "      <th>2013-01-01</th>\n",
       "      <th>2013-01-08</th>\n",
       "      <th>2013-01-15</th>\n",
       "      <th>2013-01-22</th>\n",
       "      <th>2013-01-29</th>\n",
       "      <th>2013-02-05</th>\n",
       "      <th>2013-02-12</th>\n",
       "      <th>2013-02-19</th>\n",
       "      <th>2013-02-26</th>\n",
       "      <th>...</th>\n",
       "      <th>2019-06-14</th>\n",
       "      <th>2019-06-18</th>\n",
       "      <th>2019-06-24</th>\n",
       "      <th>2019-06-25</th>\n",
       "      <th>2019-12-03</th>\n",
       "      <th>2019-12-10</th>\n",
       "      <th>2019-12-17</th>\n",
       "      <th>2019-12-24</th>\n",
       "      <th>2019-12-31</th>\n",
       "      <th>location</th>\n",
       "    </tr>\n",
       "  </thead>\n",
       "  <tbody>\n",
       "    <tr>\n",
       "      <th>0</th>\n",
       "      <td>0003f387-71c4-48f6-b2b0-d853bd4f0aba</td>\n",
       "      <td>NaN</td>\n",
       "      <td>NaN</td>\n",
       "      <td>NaN</td>\n",
       "      <td>NaN</td>\n",
       "      <td>NaN</td>\n",
       "      <td>NaN</td>\n",
       "      <td>NaN</td>\n",
       "      <td>NaN</td>\n",
       "      <td>NaN</td>\n",
       "      <td>...</td>\n",
       "      <td>NaN</td>\n",
       "      <td>NaN</td>\n",
       "      <td>NaN</td>\n",
       "      <td>NaN</td>\n",
       "      <td>NaN</td>\n",
       "      <td>NaN</td>\n",
       "      <td>NaN</td>\n",
       "      <td>NaN</td>\n",
       "      <td>NaN</td>\n",
       "      <td>(-118.7189531728198, 37.07777576986577)</td>\n",
       "    </tr>\n",
       "    <tr>\n",
       "      <th>1</th>\n",
       "      <td>000617d8-8c14-43e2-b708-7e3a69fe3cc3</td>\n",
       "      <td>NaN</td>\n",
       "      <td>NaN</td>\n",
       "      <td>NaN</td>\n",
       "      <td>NaN</td>\n",
       "      <td>NaN</td>\n",
       "      <td>NaN</td>\n",
       "      <td>NaN</td>\n",
       "      <td>NaN</td>\n",
       "      <td>NaN</td>\n",
       "      <td>...</td>\n",
       "      <td>NaN</td>\n",
       "      <td>NaN</td>\n",
       "      <td>NaN</td>\n",
       "      <td>NaN</td>\n",
       "      <td>NaN</td>\n",
       "      <td>NaN</td>\n",
       "      <td>NaN</td>\n",
       "      <td>NaN</td>\n",
       "      <td>NaN</td>\n",
       "      <td>(-107.0767870906308, 37.78397333401607)</td>\n",
       "    </tr>\n",
       "    <tr>\n",
       "      <th>2</th>\n",
       "      <td>000ba8d9-d6d5-48da-84a2-1fa54951fae1</td>\n",
       "      <td>NaN</td>\n",
       "      <td>NaN</td>\n",
       "      <td>NaN</td>\n",
       "      <td>NaN</td>\n",
       "      <td>NaN</td>\n",
       "      <td>NaN</td>\n",
       "      <td>NaN</td>\n",
       "      <td>NaN</td>\n",
       "      <td>NaN</td>\n",
       "      <td>...</td>\n",
       "      <td>0.0</td>\n",
       "      <td>NaN</td>\n",
       "      <td>NaN</td>\n",
       "      <td>NaN</td>\n",
       "      <td>NaN</td>\n",
       "      <td>NaN</td>\n",
       "      <td>NaN</td>\n",
       "      <td>NaN</td>\n",
       "      <td>NaN</td>\n",
       "      <td>(-119.3208244131799, 37.43527393760802)</td>\n",
       "    </tr>\n",
       "    <tr>\n",
       "      <th>3</th>\n",
       "      <td>0017d1c4-64cb-426d-9158-3f6521d2dd22</td>\n",
       "      <td>NaN</td>\n",
       "      <td>NaN</td>\n",
       "      <td>NaN</td>\n",
       "      <td>NaN</td>\n",
       "      <td>NaN</td>\n",
       "      <td>NaN</td>\n",
       "      <td>NaN</td>\n",
       "      <td>NaN</td>\n",
       "      <td>NaN</td>\n",
       "      <td>...</td>\n",
       "      <td>NaN</td>\n",
       "      <td>NaN</td>\n",
       "      <td>NaN</td>\n",
       "      <td>NaN</td>\n",
       "      <td>NaN</td>\n",
       "      <td>NaN</td>\n",
       "      <td>NaN</td>\n",
       "      <td>NaN</td>\n",
       "      <td>NaN</td>\n",
       "      <td>(-119.4286222472742, 37.24243563636779)</td>\n",
       "    </tr>\n",
       "    <tr>\n",
       "      <th>4</th>\n",
       "      <td>0020c632-3d5c-4509-b4ee-6b63a89bf2ff</td>\n",
       "      <td>NaN</td>\n",
       "      <td>NaN</td>\n",
       "      <td>NaN</td>\n",
       "      <td>NaN</td>\n",
       "      <td>NaN</td>\n",
       "      <td>NaN</td>\n",
       "      <td>NaN</td>\n",
       "      <td>NaN</td>\n",
       "      <td>NaN</td>\n",
       "      <td>...</td>\n",
       "      <td>NaN</td>\n",
       "      <td>NaN</td>\n",
       "      <td>NaN</td>\n",
       "      <td>NaN</td>\n",
       "      <td>NaN</td>\n",
       "      <td>NaN</td>\n",
       "      <td>NaN</td>\n",
       "      <td>NaN</td>\n",
       "      <td>NaN</td>\n",
       "      <td>(-118.8986162296437, 36.85527598313992)</td>\n",
       "    </tr>\n",
       "    <tr>\n",
       "      <th>...</th>\n",
       "      <td>...</td>\n",
       "      <td>...</td>\n",
       "      <td>...</td>\n",
       "      <td>...</td>\n",
       "      <td>...</td>\n",
       "      <td>...</td>\n",
       "      <td>...</td>\n",
       "      <td>...</td>\n",
       "      <td>...</td>\n",
       "      <td>...</td>\n",
       "      <td>...</td>\n",
       "      <td>...</td>\n",
       "      <td>...</td>\n",
       "      <td>...</td>\n",
       "      <td>...</td>\n",
       "      <td>...</td>\n",
       "      <td>...</td>\n",
       "      <td>...</td>\n",
       "      <td>...</td>\n",
       "      <td>...</td>\n",
       "      <td>...</td>\n",
       "    </tr>\n",
       "    <tr>\n",
       "      <th>10873</th>\n",
       "      <td>ffdc53d2-5565-496a-b849-4fcf33f33a36</td>\n",
       "      <td>NaN</td>\n",
       "      <td>NaN</td>\n",
       "      <td>NaN</td>\n",
       "      <td>NaN</td>\n",
       "      <td>NaN</td>\n",
       "      <td>NaN</td>\n",
       "      <td>NaN</td>\n",
       "      <td>NaN</td>\n",
       "      <td>NaN</td>\n",
       "      <td>...</td>\n",
       "      <td>NaN</td>\n",
       "      <td>NaN</td>\n",
       "      <td>NaN</td>\n",
       "      <td>NaN</td>\n",
       "      <td>NaN</td>\n",
       "      <td>NaN</td>\n",
       "      <td>NaN</td>\n",
       "      <td>NaN</td>\n",
       "      <td>NaN</td>\n",
       "      <td>(-119.09624559215, 37.049102672209195)</td>\n",
       "    </tr>\n",
       "    <tr>\n",
       "      <th>10874</th>\n",
       "      <td>ffdfb5a4-91a0-41a9-a4d5-501b04ef6326</td>\n",
       "      <td>NaN</td>\n",
       "      <td>NaN</td>\n",
       "      <td>NaN</td>\n",
       "      <td>NaN</td>\n",
       "      <td>NaN</td>\n",
       "      <td>NaN</td>\n",
       "      <td>NaN</td>\n",
       "      <td>NaN</td>\n",
       "      <td>NaN</td>\n",
       "      <td>...</td>\n",
       "      <td>NaN</td>\n",
       "      <td>NaN</td>\n",
       "      <td>NaN</td>\n",
       "      <td>NaN</td>\n",
       "      <td>NaN</td>\n",
       "      <td>NaN</td>\n",
       "      <td>NaN</td>\n",
       "      <td>NaN</td>\n",
       "      <td>NaN</td>\n",
       "      <td>(-118.6201384915667, 37.1207650916254)</td>\n",
       "    </tr>\n",
       "    <tr>\n",
       "      <th>10875</th>\n",
       "      <td>ffe43514-2c92-43b6-bd84-d183806aca65</td>\n",
       "      <td>NaN</td>\n",
       "      <td>NaN</td>\n",
       "      <td>NaN</td>\n",
       "      <td>NaN</td>\n",
       "      <td>NaN</td>\n",
       "      <td>NaN</td>\n",
       "      <td>NaN</td>\n",
       "      <td>NaN</td>\n",
       "      <td>NaN</td>\n",
       "      <td>...</td>\n",
       "      <td>NaN</td>\n",
       "      <td>NaN</td>\n",
       "      <td>NaN</td>\n",
       "      <td>NaN</td>\n",
       "      <td>NaN</td>\n",
       "      <td>NaN</td>\n",
       "      <td>NaN</td>\n",
       "      <td>NaN</td>\n",
       "      <td>NaN</td>\n",
       "      <td>(-123.4979904843356, 47.90432872112956)</td>\n",
       "    </tr>\n",
       "    <tr>\n",
       "      <th>10876</th>\n",
       "      <td>fff95195-ccc9-40b7-b302-a0d8570c86bc</td>\n",
       "      <td>NaN</td>\n",
       "      <td>NaN</td>\n",
       "      <td>NaN</td>\n",
       "      <td>NaN</td>\n",
       "      <td>NaN</td>\n",
       "      <td>NaN</td>\n",
       "      <td>NaN</td>\n",
       "      <td>NaN</td>\n",
       "      <td>NaN</td>\n",
       "      <td>...</td>\n",
       "      <td>NaN</td>\n",
       "      <td>NaN</td>\n",
       "      <td>NaN</td>\n",
       "      <td>NaN</td>\n",
       "      <td>NaN</td>\n",
       "      <td>NaN</td>\n",
       "      <td>NaN</td>\n",
       "      <td>NaN</td>\n",
       "      <td>NaN</td>\n",
       "      <td>(-123.3722263445589, 47.73543687890145)</td>\n",
       "    </tr>\n",
       "    <tr>\n",
       "      <th>10877</th>\n",
       "      <td>fffb4d40-5947-4922-9f05-5d8b5a243d84</td>\n",
       "      <td>NaN</td>\n",
       "      <td>NaN</td>\n",
       "      <td>NaN</td>\n",
       "      <td>NaN</td>\n",
       "      <td>NaN</td>\n",
       "      <td>NaN</td>\n",
       "      <td>NaN</td>\n",
       "      <td>NaN</td>\n",
       "      <td>NaN</td>\n",
       "      <td>...</td>\n",
       "      <td>NaN</td>\n",
       "      <td>NaN</td>\n",
       "      <td>NaN</td>\n",
       "      <td>NaN</td>\n",
       "      <td>NaN</td>\n",
       "      <td>NaN</td>\n",
       "      <td>NaN</td>\n",
       "      <td>NaN</td>\n",
       "      <td>NaN</td>\n",
       "      <td>(-123.7944345280951, 47.523549182675254)</td>\n",
       "    </tr>\n",
       "  </tbody>\n",
       "</table>\n",
       "<p>10878 rows × 269 columns</p>\n",
       "</div>"
      ],
      "text/plain": [
       "                                    cell_id  2013-01-01  2013-01-08  \\\n",
       "0      0003f387-71c4-48f6-b2b0-d853bd4f0aba         NaN         NaN   \n",
       "1      000617d8-8c14-43e2-b708-7e3a69fe3cc3         NaN         NaN   \n",
       "2      000ba8d9-d6d5-48da-84a2-1fa54951fae1         NaN         NaN   \n",
       "3      0017d1c4-64cb-426d-9158-3f6521d2dd22         NaN         NaN   \n",
       "4      0020c632-3d5c-4509-b4ee-6b63a89bf2ff         NaN         NaN   \n",
       "...                                     ...         ...         ...   \n",
       "10873  ffdc53d2-5565-496a-b849-4fcf33f33a36         NaN         NaN   \n",
       "10874  ffdfb5a4-91a0-41a9-a4d5-501b04ef6326         NaN         NaN   \n",
       "10875  ffe43514-2c92-43b6-bd84-d183806aca65         NaN         NaN   \n",
       "10876  fff95195-ccc9-40b7-b302-a0d8570c86bc         NaN         NaN   \n",
       "10877  fffb4d40-5947-4922-9f05-5d8b5a243d84         NaN         NaN   \n",
       "\n",
       "       2013-01-15  2013-01-22  2013-01-29  2013-02-05  2013-02-12  2013-02-19  \\\n",
       "0             NaN         NaN         NaN         NaN         NaN         NaN   \n",
       "1             NaN         NaN         NaN         NaN         NaN         NaN   \n",
       "2             NaN         NaN         NaN         NaN         NaN         NaN   \n",
       "3             NaN         NaN         NaN         NaN         NaN         NaN   \n",
       "4             NaN         NaN         NaN         NaN         NaN         NaN   \n",
       "...           ...         ...         ...         ...         ...         ...   \n",
       "10873         NaN         NaN         NaN         NaN         NaN         NaN   \n",
       "10874         NaN         NaN         NaN         NaN         NaN         NaN   \n",
       "10875         NaN         NaN         NaN         NaN         NaN         NaN   \n",
       "10876         NaN         NaN         NaN         NaN         NaN         NaN   \n",
       "10877         NaN         NaN         NaN         NaN         NaN         NaN   \n",
       "\n",
       "       2013-02-26  ...  2019-06-14  2019-06-18  2019-06-24  2019-06-25  \\\n",
       "0             NaN  ...         NaN         NaN         NaN         NaN   \n",
       "1             NaN  ...         NaN         NaN         NaN         NaN   \n",
       "2             NaN  ...         0.0         NaN         NaN         NaN   \n",
       "3             NaN  ...         NaN         NaN         NaN         NaN   \n",
       "4             NaN  ...         NaN         NaN         NaN         NaN   \n",
       "...           ...  ...         ...         ...         ...         ...   \n",
       "10873         NaN  ...         NaN         NaN         NaN         NaN   \n",
       "10874         NaN  ...         NaN         NaN         NaN         NaN   \n",
       "10875         NaN  ...         NaN         NaN         NaN         NaN   \n",
       "10876         NaN  ...         NaN         NaN         NaN         NaN   \n",
       "10877         NaN  ...         NaN         NaN         NaN         NaN   \n",
       "\n",
       "       2019-12-03  2019-12-10  2019-12-17  2019-12-24  2019-12-31  \\\n",
       "0             NaN         NaN         NaN         NaN         NaN   \n",
       "1             NaN         NaN         NaN         NaN         NaN   \n",
       "2             NaN         NaN         NaN         NaN         NaN   \n",
       "3             NaN         NaN         NaN         NaN         NaN   \n",
       "4             NaN         NaN         NaN         NaN         NaN   \n",
       "...           ...         ...         ...         ...         ...   \n",
       "10873         NaN         NaN         NaN         NaN         NaN   \n",
       "10874         NaN         NaN         NaN         NaN         NaN   \n",
       "10875         NaN         NaN         NaN         NaN         NaN   \n",
       "10876         NaN         NaN         NaN         NaN         NaN   \n",
       "10877         NaN         NaN         NaN         NaN         NaN   \n",
       "\n",
       "                                       location  \n",
       "0       (-118.7189531728198, 37.07777576986577)  \n",
       "1       (-107.0767870906308, 37.78397333401607)  \n",
       "2       (-119.3208244131799, 37.43527393760802)  \n",
       "3       (-119.4286222472742, 37.24243563636779)  \n",
       "4       (-118.8986162296437, 36.85527598313992)  \n",
       "...                                         ...  \n",
       "10873    (-119.09624559215, 37.049102672209195)  \n",
       "10874    (-118.6201384915667, 37.1207650916254)  \n",
       "10875   (-123.4979904843356, 47.90432872112956)  \n",
       "10876   (-123.3722263445589, 47.73543687890145)  \n",
       "10877  (-123.7944345280951, 47.523549182675254)  \n",
       "\n",
       "[10878 rows x 269 columns]"
      ]
     },
     "execution_count": 215,
     "metadata": {},
     "output_type": "execute_result"
    }
   ],
   "source": [
    "train_labels"
   ]
  },
  {
   "cell_type": "code",
   "execution_count": 145,
   "id": "33e007dc",
   "metadata": {},
   "outputs": [
    {
     "data": {
      "image/png": "[encoded data removed]",
      "text/plain": [
       "<Figure size 1080x720 with 1 Axes>"
      ]
     },
     "metadata": {
      "needs_background": "light"
     },
     "output_type": "display_data"
    }
   ],
   "source": [
    "fig, ax = plt.subplots()\n",
    "for g in np.unique(ground_measures[\"state\"]):\n",
    "    ix = np.where(ground_measures[\"state\"] == g)\n",
    "    x = ground_measures.iloc[ix][\"longitude\"]\n",
    "    y = ground_measures.iloc[ix][\"latitude\"]\n",
    "    ax.scatter(x, y, label = g, s = 10)\n",
    "labels_x = train_labels[\"location\"].apply(lambda x: x[0])\n",
    "labels_y = train_labels[\"location\"].apply(lambda x: x[1])\n",
    "ax.scatter(labels_x, labels_y, label=\"label_loc\", s=10)\n",
    "ax.legend()\n",
    "plt.show()"
   ]
  },
  {
   "cell_type": "markdown",
   "id": "dac33839",
   "metadata": {},
   "source": [
    "### Matching train stations and train labels via 1NN"
   ]
  },
  {
   "cell_type": "code",
   "execution_count": 173,
   "id": "9f5eb7c2",
   "metadata": {},
   "outputs": [],
   "source": [
    "points_x = ground_measures[\"longitude\"]\n",
    "points_y = ground_measures[\"latitude\"]\n",
    "distances = []\n",
    "for x, y in zip(train_labels[\"location\"].apply(lambda x: x[0]), train_labels[\"location\"].apply(lambda x: x[1])):\n",
    "    dist_x = (x - points_x)**2\n",
    "    dist_y = (y - points_y)**2\n",
    "    min_x = min(dist_x)\n",
    "    min_y = min(dist_y)\n",
    "    distances.append((x, y, min_x, min_y))"
   ]
  },
  {
   "cell_type": "code",
   "execution_count": 172,
   "id": "7f875e37",
   "metadata": {
    "scrolled": true
   },
   "outputs": [
    {
     "data": {
      "text/plain": [
       "[(-124.1807101002665,\n",
       "  48.01862106309312,\n",
       "  0.5230708112839659,\n",
       "  0.0007685608904173689),\n",
       " (-124.1807101002665,\n",
       "  47.93443016994159,\n",
       "  0.5230708112839659,\n",
       "  0.00010859206576936415),\n",
       " (-124.1807101002665,\n",
       "  48.08467475603855,\n",
       "  0.5230708112839659,\n",
       "  9.950769107796339e-05),\n",
       " (-124.1807101002665,\n",
       "  47.976542776724884,\n",
       "  0.5230708112839659,\n",
       "  4.0155819335315595e-05),\n",
       " (-124.1807101002665,\n",
       "  48.06066503433992,\n",
       "  0.5230708112839659,\n",
       "  7.544241719714818e-06),\n",
       " (-124.1717269474253,\n",
       "  47.626573355163785,\n",
       "  0.5101576230571542,\n",
       "  0.003285346386035677),\n",
       " (-124.1717269474253,\n",
       "  47.81995147890865,\n",
       "  0.5101576230571542,\n",
       "  0.0031643888740423265),\n",
       " (-124.1717269474253,\n",
       "  47.868183862637856,\n",
       "  0.5101576230571542,\n",
       "  0.002409513714579934),\n",
       " (-124.1717269474253,\n",
       "  47.60235060853191,\n",
       "  0.5101576230571542,\n",
       "  0.0021996258596176754),\n",
       " (-124.1717269474253,\n",
       "  47.63868052088516,\n",
       "  0.5101576230571542,\n",
       "  0.0020440142214523623)]"
      ]
     },
     "execution_count": 172,
     "metadata": {},
     "output_type": "execute_result"
    }
   ],
   "source": [
    "sorted(distances, key=lambda x: x[2] + x[3], reverse=True)[:10]"
   ]
  },
  {
   "cell_type": "code",
   "execution_count": 156,
   "id": "44745d04",
   "metadata": {
    "scrolled": true
   },
   "outputs": [
    {
     "data": {
      "text/plain": [
       "cell_id         003fc268-c5c8-4a52-aaee-2f0802ce2b3f\n",
       "2013-01-01                                       NaN\n",
       "2013-01-08                                       NaN\n",
       "2013-01-15                                       NaN\n",
       "2013-01-22                                       NaN\n",
       "                               ...                  \n",
       "2019-12-10                                       NaN\n",
       "2019-12-17                                       NaN\n",
       "2019-12-24                                       NaN\n",
       "2019-12-31                                       NaN\n",
       "location      (-118.7369194785022, 36.6681623246359)\n",
       "Name: 12, Length: 269, dtype: object"
      ]
     },
     "execution_count": 156,
     "metadata": {},
     "output_type": "execute_result"
    }
   ],
   "source": [
    "train_labels.iloc[12]"
   ]
  },
  {
   "cell_type": "code",
   "execution_count": 158,
   "id": "4cb0c525",
   "metadata": {},
   "outputs": [
    {
     "data": {
      "text/plain": [
       "229"
      ]
     },
     "execution_count": 158,
     "metadata": {},
     "output_type": "execute_result"
    }
   ],
   "source": [
    "len(train_labels.columns.tolist()) - 40"
   ]
  },
  {
   "cell_type": "code",
   "execution_count": 166,
   "id": "be4fb006",
   "metadata": {},
   "outputs": [
    {
     "data": {
      "text/plain": [
       "'2019-03-19'"
      ]
     },
     "execution_count": 166,
     "metadata": {},
     "output_type": "execute_result"
    }
   ],
   "source": [
    "train_labels.columns.tolist()[227]"
   ]
  },
  {
   "cell_type": "code",
   "execution_count": 168,
   "id": "efd48f22",
   "metadata": {},
   "outputs": [
    {
     "data": {
      "text/plain": [
       "0.0"
      ]
     },
     "execution_count": 168,
     "metadata": {},
     "output_type": "execute_result"
    }
   ],
   "source": [
    "train_labels.iloc[12]['2019-03-17']"
   ]
  },
  {
   "cell_type": "code",
   "execution_count": 162,
   "id": "207faac4",
   "metadata": {},
   "outputs": [
    {
     "data": {
      "text/plain": [
       "63.9"
      ]
     },
     "execution_count": 162,
     "metadata": {},
     "output_type": "execute_result"
    }
   ],
   "source": [
    "train_labels.iloc[12]['2019-03-24']"
   ]
  },
  {
   "cell_type": "markdown",
   "id": "681b4acb",
   "metadata": {},
   "source": [
    "### Looking at the training data"
   ]
  },
  {
   "cell_type": "code",
   "execution_count": 199,
   "id": "4dfcde6b",
   "metadata": {},
   "outputs": [],
   "source": [
    "from ipywidgets import interact, IntSlider, Layout\n",
    "import ipywidgets as widgets"
   ]
  },
  {
   "cell_type": "code",
   "execution_count": 251,
   "id": "14594e6a",
   "metadata": {
    "scrolled": false
   },
   "outputs": [
    {
     "data": {
      "application/vnd.jupyter.widget-view+json": {
       "model_id": "4582e655617f4e60b473f439cbad0e27",
       "version_major": 2,
       "version_minor": 0
      },
      "text/plain": [
       "interactive(children=(IntSlider(value=0, description='i', layout=Layout(width='800px'), max=699), Output()), _…"
      ]
     },
     "metadata": {},
     "output_type": "display_data"
    }
   ],
   "source": [
    "old_train_features = pd.read_csv(\"train/ground_measures_train_features.csv\")\n",
    "@interact(i=(IntSlider(0, 0, train_features.shape[0]-1, 1, layout=Layout(width='800px'))))\n",
    "def plot_station(i):\n",
    "    station = old_train_features.iloc[i][0]\n",
    "    swe = old_train_features.iloc[i][1:]\n",
    "    dates = range(len(swe))\n",
    "    plt.plot(dates, swe)\n",
    "    plt.title(station)"
   ]
  },
  {
   "cell_type": "code",
   "execution_count": 311,
   "id": "2afdcae2",
   "metadata": {},
   "outputs": [],
   "source": [
    "train_features = pd.read_csv(\"train/ground_measures_train_features.csv\")\n",
    "test_features = pd.read_csv(\"test/ground_measures_test_features.csv\")"
   ]
  },
  {
   "cell_type": "code",
   "execution_count": 312,
   "id": "99a39592",
   "metadata": {},
   "outputs": [],
   "source": [
    "train_features.iloc[:, 1:] = train_features.iloc[:, 1:].astype(float).interpolate(method=\"linear\", axis=1, limit_direction=\"both\")\n",
    "test_features.iloc[:, 1:] = test_features.iloc[:, 1:].astype(float).interpolate(method=\"linear\", axis=1)\n",
    "train_features.dropna(inplace=True)\n",
    "test_features.dropna(inplace=True)"
   ]
  },
  {
   "cell_type": "code",
   "execution_count": 291,
   "id": "0477fb8e",
   "metadata": {
    "scrolled": true
   },
   "outputs": [
    {
     "data": {
      "application/vnd.jupyter.widget-view+json": {
       "model_id": "a5afa74f856547319f34e28e00249fff",
       "version_major": 2,
       "version_minor": 0
      },
      "text/plain": [
       "interactive(children=(IntSlider(value=0, description='i', layout=Layout(width='800px'), max=699), Output()), _…"
      ]
     },
     "metadata": {},
     "output_type": "display_data"
    }
   ],
   "source": [
    "@interact(i=(IntSlider(0, 0, train_features.shape[0]-1, 1, layout=Layout(width='800px'))))\n",
    "def plot_station(i):\n",
    "    station = train_features.iloc[i][0]\n",
    "    swe = train_features.iloc[i][1:]\n",
    "    dates = range(len(swe))\n",
    "    plt.plot(dates, swe)\n",
    "    plt.title(station)"
   ]
  },
  {
   "cell_type": "markdown",
   "id": "c59ab606",
   "metadata": {},
   "source": [
    "### Constructing Training Dataset"
   ]
  },
  {
   "cell_type": "code",
   "execution_count": 292,
   "id": "2e25a13a",
   "metadata": {},
   "outputs": [],
   "source": [
    "station_meta = {}\n",
    "for oi, r in ground_measures.iterrows():\n",
    "    station_meta[r[0]] = {\n",
    "        'elev': r['elevation_m'],\n",
    "        'lat': r['latitude'],\n",
    "        'long': r['longitude']\n",
    "    }"
   ]
  },
  {
   "cell_type": "code",
   "execution_count": 293,
   "id": "13e5f69a",
   "metadata": {},
   "outputs": [],
   "source": [
    "import math\n",
    "from datetime import datetime\n",
    "def df_to_xy(dataframe: pd.DataFrame):\n",
    "    x = []\n",
    "    y = []\n",
    "    for oi, j in dataframe.iterrows():\n",
    "        sx = math.cos(station_meta[j[0]]['lat']) * math.cos(station_meta[j[0]]['long'])\n",
    "        sy = math.cos(station_meta[j[0]]['lat']) * math.sin(station_meta[j[0]]['long'])\n",
    "        elev = station_meta[j[0]]['elev']\n",
    "        for k, e in j.items():\n",
    "            if k == 'Unnamed: 0':\n",
    "                continue\n",
    "            dt = datetime.strptime(k, '%Y-%m-%d')\n",
    "            x.append(np.array([elev, sx, sy, dt.date().year, dt.date().month, dt.date().day]))\n",
    "            y.append(e)\n",
    "\n",
    "    return np.array(x), np.array(y)"
   ]
  },
  {
   "cell_type": "code",
   "execution_count": 313,
   "id": "765e3c59",
   "metadata": {},
   "outputs": [
    {
     "data": {
      "text/plain": [
       "Unnamed: 0    0\n",
       "2013-01-01    0\n",
       "2013-01-08    0\n",
       "2013-01-15    0\n",
       "2013-01-22    0\n",
       "             ..\n",
       "2019-12-03    0\n",
       "2019-12-10    0\n",
       "2019-12-17    0\n",
       "2019-12-24    0\n",
       "2019-12-31    0\n",
       "Length: 214, dtype: int64"
      ]
     },
     "execution_count": 313,
     "metadata": {},
     "output_type": "execute_result"
    }
   ],
   "source": [
    "train_features.isna().sum()"
   ]
  },
  {
   "cell_type": "code",
   "execution_count": 314,
   "id": "1406c039",
   "metadata": {},
   "outputs": [],
   "source": [
    "x_train, y_train = df_to_xy(train_features)\n",
    "x_test, y_test = df_to_xy(test_features)"
   ]
  },
  {
   "cell_type": "code",
   "execution_count": 315,
   "id": "49430cb6",
   "metadata": {},
   "outputs": [],
   "source": [
    "from sklearn import preprocessing\n",
    "scaler = preprocessing.StandardScaler().fit(x_train)\n",
    "x_train = scaler.transform(x_train)\n",
    "x_test = scaler.transform(x_test)"
   ]
  },
  {
   "cell_type": "code",
   "execution_count": 318,
   "id": "8188d82f",
   "metadata": {},
   "outputs": [],
   "source": [
    "from sklearn.linear_model import LinearRegression\n",
    "clf = LinearRegression().fit(x_train, y_train)"
   ]
  },
  {
   "cell_type": "code",
   "execution_count": 322,
   "id": "10fed277",
   "metadata": {},
   "outputs": [],
   "source": [
    "y_pred_train = clf.predict(x_train)\n",
    "y_pred_test = clf.predict(x_test)"
   ]
  },
  {
   "cell_type": "code",
   "execution_count": 320,
   "id": "1d7c3bcf",
   "metadata": {},
   "outputs": [],
   "source": [
    "import sklearn.metrics as metrics\n",
    "def regression_results(y_true, y_pred):\n",
    "    explained_variance=metrics.explained_variance_score(y_true, y_pred)\n",
    "    mean_absolute_error=metrics.mean_absolute_error(y_true, y_pred) \n",
    "    mse=metrics.mean_squared_error(y_true, y_pred) \n",
    "    mean_squared_log_error=metrics.mean_squared_log_error(y_true, y_pred)\n",
    "    median_absolute_error=metrics.median_absolute_error(y_true, y_pred)\n",
    "    r2=metrics.r2_score(y_true, y_pred)\n",
    "\n",
    "    print('explained_variance: ', round(explained_variance,4))    \n",
    "    print('mean_squared_log_error: ', round(mean_squared_log_error,4))\n",
    "    print('r2: ', round(r2,4))\n",
    "    print('MAE: ', round(mean_absolute_error,4))\n",
    "    print('MSE: ', round(mse,4))\n",
    "    print('RMSE: ', round(np.sqrt(mse),4))"
   ]
  },
  {
   "cell_type": "code",
   "execution_count": 323,
   "id": "c9cd1d8f",
   "metadata": {},
   "outputs": [
    {
     "name": "stdout",
     "output_type": "stream",
     "text": [
      "explained_variance:  0.071\n",
      "mean_squared_log_error:  1.7812\n",
      "r2:  0.071\n",
      "MAE:  8.1349\n",
      "MSE:  136.486\n",
      "RMSE:  11.6827\n",
      "None\n",
      "explained_variance:  0.0673\n",
      "mean_squared_log_error:  2.3087\n",
      "r2:  -0.1166\n",
      "MAE:  9.0169\n",
      "MSE:  122.0958\n",
      "RMSE:  11.0497\n",
      "None\n"
     ]
    }
   ],
   "source": [
    "print(regression_results(y_train, y_pred_train))\n",
    "print(regression_results(y_test, y_pred_test))"
   ]
  }
 ],
 "metadata": {
  "kernelspec": {
   "display_name": "Python snow",
   "language": "python",
   "name": "snow"
  },
  "language_info": {
   "codemirror_mode": {
    "name": "ipython",
    "version": 3
   },
   "file_extension": ".py",
   "mimetype": "text/x-python",
   "name": "python",
   "nbconvert_exporter": "python",
   "pygments_lexer": "ipython3",
   "version": "3.10.1"
  }
 },
 "nbformat": 4,
 "nbformat_minor": 5
}
