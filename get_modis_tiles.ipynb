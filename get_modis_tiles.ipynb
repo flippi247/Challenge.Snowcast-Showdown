{
 "cells": [
  {
   "cell_type": "code",
   "execution_count": 1,
   "metadata": {
    "collapsed": true
   },
   "outputs": [],
   "source": [
    "import tempfile\n",
    "import wget\n",
    "import numpy as np\n",
    "import matplotlib.pyplot as plt\n",
    "import os\n",
    "\n",
    "from azure.storage.blob import ContainerClient\n",
    "\n",
    "modis_account_name = 'modissa'\n",
    "modis_container_name = 'modis-006'\n",
    "modis_account_url = 'https://' + modis_account_name + '.blob.core.windows.net/'\n",
    "modis_blob_root = modis_account_url + modis_container_name + '/'\n",
    "\n",
    "# This file is provided by NASA; it indicates the lat/lon extents of each\n",
    "# MODIS tile.\n",
    "#\n",
    "# The file originally comes from:\n",
    "#\n",
    "# https://modis-land.gsfc.nasa.gov/pdf/sn_bound_10deg.txt\n",
    "modis_tile_extents_url = modis_blob_root + 'sn_bound_10deg.txt'\n",
    "\n",
    "temp_dir = os.path.join(tempfile.gettempdir(),'modis')\n",
    "os.makedirs(temp_dir,exist_ok=True)\n",
    "fn = os.path.join(temp_dir,modis_tile_extents_url.split('/')[-1])\n",
    "wget.download(modis_tile_extents_url, fn)\n",
    "\n",
    "# Load this file into a table, where each row is (v,h,lonmin,lonmax,latmin,latmax)\n",
    "modis_tile_extents = np.genfromtxt(fn,\n",
    "                                   skip_header = 7,\n",
    "                                   skip_footer = 3)\n",
    "\n",
    "modis_container_client = ContainerClient(account_url=modis_account_url,\n",
    "                                         container_name=modis_container_name,\n",
    "                                         credential=None)"
   ]
  },
  {
   "cell_type": "code",
   "execution_count": 3,
   "outputs": [],
   "source": [
    "def lat_lon_to_modis_tile(lat,lon):\n",
    "    \"\"\"\n",
    "    Get the modis tile indices (h,v) for a given lat/lon\n",
    "\n",
    "    https://www.earthdatascience.org/tutorials/convert-modis-tile-to-lat-lon/\n",
    "    \"\"\"\n",
    "\n",
    "    found_matching_tile = False\n",
    "    i = 0\n",
    "    while(not found_matching_tile):\n",
    "        found_matching_tile = lat >= modis_tile_extents[i, 4] \\\n",
    "                              and lat <= modis_tile_extents[i, 5] \\\n",
    "                              and lon >= modis_tile_extents[i, 2] and lon <= modis_tile_extents[i, 3]\n",
    "        i += 1\n",
    "\n",
    "    v = int(modis_tile_extents[i-1, 0])\n",
    "    h = int(modis_tile_extents[i-1, 1])\n",
    "\n",
    "    return h,v\n",
    "\n",
    "\n",
    "def list_blobs_in_folder(container_name,folder_name):\n",
    "    \"\"\"\n",
    "    List all blobs in a virtual folder in an Azure blob container\n",
    "    \"\"\"\n",
    "\n",
    "    files = []\n",
    "    generator = modis_container_client.list_blobs(name_starts_with=folder_name)\n",
    "    for blob in generator:\n",
    "        files.append(blob.name)\n",
    "    return files\n",
    "\n",
    "\n",
    "def list_hdf_blobs_in_folder(container_name,folder_name):\n",
    "    \"\"\"\"\n",
    "    List .hdf files in a folder\n",
    "    \"\"\"\n",
    "\n",
    "    files = list_blobs_in_folder(container_name,folder_name)\n",
    "    files = [fn for fn in files if fn.endswith('.hdf')]\n",
    "    return files"
   ],
   "metadata": {
    "collapsed": false,
    "pycharm": {
     "name": "#%%\n"
    }
   }
  },
  {
   "cell_type": "code",
   "execution_count": 19,
   "outputs": [],
   "source": [
    "import geopandas as gpd\n",
    "cells = gpd.read_file('data/grid_cells.geojson')\n"
   ],
   "metadata": {
    "collapsed": false,
    "pycharm": {
     "name": "#%%\n"
    }
   }
  },
  {
   "cell_type": "code",
   "execution_count": 43,
   "outputs": [
    {
     "name": "stdout",
     "output_type": "stream",
     "text": [
      "-118.7234447492404 37.07777576986577\n"
     ]
    }
   ],
   "source": [
    "tiles = []\n",
    "for i, row in cells.iterrows():\n",
    "    if i == 0:\n",
    "        print(row.geometry.centroid.x, row.geometry.centroid.y)\n",
    "    row['x'] = row.geometry.centroid.x\n",
    "    row['y'] = row.geometry.centroid.y\n",
    "    tiles.append(lat_lon_to_modis_tile(row['y'], row['x']))"
   ],
   "metadata": {
    "collapsed": false,
    "pycharm": {
     "name": "#%%\n"
    }
   }
  },
  {
   "cell_type": "code",
   "execution_count": 24,
   "outputs": [],
   "source": [
    "tiles = np.array(tiles)\n",
    "tiles = np.unique(tiles, axis=0)"
   ],
   "metadata": {
    "collapsed": false,
    "pycharm": {
     "name": "#%%\n"
    }
   }
  },
  {
   "cell_type": "code",
   "execution_count": 25,
   "outputs": [
    {
     "data": {
      "text/plain": "array([[7, 5],\n       [8, 4],\n       [8, 5],\n       [9, 4]])"
     },
     "execution_count": 25,
     "metadata": {},
     "output_type": "execute_result"
    }
   ],
   "source": [
    "tiles"
   ],
   "metadata": {
    "collapsed": false,
    "pycharm": {
     "name": "#%%\n"
    }
   }
  },
  {
   "cell_type": "code",
   "execution_count": 55,
   "outputs": [],
   "source": [
    "test_tile = lat_lon_to_modis_tile(37.077, -118.72)"
   ],
   "metadata": {
    "collapsed": false,
    "pycharm": {
     "name": "#%%\n"
    }
   }
  },
  {
   "cell_type": "code",
   "execution_count": 84,
   "outputs": [
    {
     "data": {
      "text/plain": "(7, 5)"
     },
     "execution_count": 84,
     "metadata": {},
     "output_type": "execute_result"
    }
   ],
   "source": [
    "test_tile"
   ],
   "metadata": {
    "collapsed": false,
    "pycharm": {
     "name": "#%%\n"
    }
   }
  },
  {
   "cell_type": "code",
   "execution_count": 78,
   "outputs": [
    {
     "name": "stdout",
     "output_type": "stream",
     "text": [
      "Found 1 matching file(s):\n",
      "MOD10A1/07/05/2019135/MOD10A1.A2019135.h07v05.006.2019149220243.hdf\n"
     ]
    }
   ],
   "source": [
    "product = 'MOD10A1'\n",
    "\n",
    "daynum = '2019135'\n",
    "folder = product + '/' + '{:0>2d}/{:0>2d}'.format(test_tile[0],test_tile[1]) + '/' + daynum\n",
    "\n",
    "# Find all HDF files from this tile on this day\n",
    "filenames = list_hdf_blobs_in_folder(modis_container_name,folder)\n",
    "print('Found {} matching file(s):'.format(len(filenames)))\n",
    "for fn in filenames:\n",
    "    print(fn)\n",
    "\n",
    "# Work with the first returned URL\n",
    "blob_name = filenames[0]\n",
    "\n",
    "# Download to a temporary file\n",
    "url = modis_blob_root + blob_name\n",
    "\n",
    "filename = os.path.join(temp_dir,blob_name.replace('/','_'))\n",
    "if not os.path.isfile(filename):\n",
    "    wget.download(url,filename)\n"
   ],
   "metadata": {
    "collapsed": false,
    "pycharm": {
     "name": "#%%\n"
    }
   }
  },
  {
   "cell_type": "code",
   "execution_count": 93,
   "outputs": [
    {
     "data": {
      "text/plain": "['NDSI_Snow_Cover',\n 'NDSI_Snow_Cover_Basic_QA',\n 'NDSI_Snow_Cover_Algorithm_Flags_QA',\n 'NDSI',\n 'Snow_Albedo_Daily_Tile',\n 'orbit_pnt',\n 'granule_pnt']"
     },
     "execution_count": 93,
     "metadata": {},
     "output_type": "execute_result"
    }
   ],
   "source": [
    "import rioxarray as rxr\n",
    "import rasterio as rio\n",
    "ds = rxr.open_rasterio(filename)\n",
    "list(ds.keys())\n"
   ],
   "metadata": {
    "collapsed": false,
    "pycharm": {
     "name": "#%%\n"
    }
   }
  },
  {
   "cell_type": "code",
   "execution_count": 94,
   "outputs": [
    {
     "data": {
      "text/plain": "xarray.core.dataset.Dataset"
     },
     "execution_count": 94,
     "metadata": {},
     "output_type": "execute_result"
    }
   ],
   "source": [
    "type(ds)"
   ],
   "metadata": {
    "collapsed": false,
    "pycharm": {
     "name": "#%%\n"
    }
   }
  },
  {
   "cell_type": "code",
   "execution_count": 124,
   "outputs": [],
   "source": [
    "img = ds['NDSI_Snow_Cover']\n",
    "img_flags = ds['NDSI_Snow_Cover_Algorithm_Flags_QA']"
   ],
   "metadata": {
    "collapsed": false,
    "pycharm": {
     "name": "#%%\n"
    }
   }
  },
  {
   "cell_type": "code",
   "execution_count": 125,
   "outputs": [
    {
     "data": {
      "text/plain": "<xarray.DataArray 'NDSI_Snow_Cover' (band: 1, y: 2400, x: 2400)>\n[5760000 values with dtype=uint8]\nCoordinates:\n  * y            (y) float64 4.448e+06 4.447e+06 ... 3.337e+06 3.336e+06\n  * x            (x) float64 -1.223e+07 -1.223e+07 ... -1.112e+07 -1.112e+07\n  * band         (band) int32 1\n    spatial_ref  int32 0\nAttributes:\n    _FillValue:    255.0\n    scale_factor:  1.0\n    add_offset:    0.0\n    long_name:     NDSI snow cover from best observation of the day\n    units:         none",
      "text/html": "<div><svg style=\"position: absolute; width: 0; height: 0; overflow: hidden\">\n<defs>\n<symbol id=\"icon-database\" viewBox=\"0 0 32 32\">\n<path d=\"M16 0c-8.837 0-16 2.239-16 5v4c0 2.761 7.163 5 16 5s16-2.239 16-5v-4c0-2.761-7.163-5-16-5z\"></path>\n<path d=\"M16 17c-8.837 0-16-2.239-16-5v6c0 2.761 7.163 5 16 5s16-2.239 16-5v-6c0 2.761-7.163 5-16 5z\"></path>\n<path d=\"M16 26c-8.837 0-16-2.239-16-5v6c0 2.761 7.163 5 16 5s16-2.239 16-5v-6c0 2.761-7.163 5-16 5z\"></path>\n</symbol>\n<symbol id=\"icon-file-text2\" viewBox=\"0 0 32 32\">\n<path d=\"M28.681 7.159c-0.694-0.947-1.662-2.053-2.724-3.116s-2.169-2.030-3.116-2.724c-1.612-1.182-2.393-1.319-2.841-1.319h-15.5c-1.378 0-2.5 1.121-2.5 2.5v27c0 1.378 1.122 2.5 2.5 2.5h23c1.378 0 2.5-1.122 2.5-2.5v-19.5c0-0.448-0.137-1.23-1.319-2.841zM24.543 5.457c0.959 0.959 1.712 1.825 2.268 2.543h-4.811v-4.811c0.718 0.556 1.584 1.309 2.543 2.268zM28 29.5c0 0.271-0.229 0.5-0.5 0.5h-23c-0.271 0-0.5-0.229-0.5-0.5v-27c0-0.271 0.229-0.5 0.5-0.5 0 0 15.499-0 15.5 0v7c0 0.552 0.448 1 1 1h7v19.5z\"></path>\n<path d=\"M23 26h-14c-0.552 0-1-0.448-1-1s0.448-1 1-1h14c0.552 0 1 0.448 1 1s-0.448 1-1 1z\"></path>\n<path d=\"M23 22h-14c-0.552 0-1-0.448-1-1s0.448-1 1-1h14c0.552 0 1 0.448 1 1s-0.448 1-1 1z\"></path>\n<path d=\"M23 18h-14c-0.552 0-1-0.448-1-1s0.448-1 1-1h14c0.552 0 1 0.448 1 1s-0.448 1-1 1z\"></path>\n</symbol>\n</defs>\n</svg>\n<style>/* CSS stylesheet for displaying xarray objects in jupyterlab.\n *\n */\n\n:root {\n  --xr-font-color0: var(--jp-content-font-color0, rgba(0, 0, 0, 1));\n  --xr-font-color2: var(--jp-content-font-color2, rgba(0, 0, 0, 0.54));\n  --xr-font-color3: var(--jp-content-font-color3, rgba(0, 0, 0, 0.38));\n  --xr-border-color: var(--jp-border-color2, #e0e0e0);\n  --xr-disabled-color: var(--jp-layout-color3, #bdbdbd);\n  --xr-background-color: var(--jp-layout-color0, white);\n  --xr-background-color-row-even: var(--jp-layout-color1, white);\n  --xr-background-color-row-odd: var(--jp-layout-color2, #eeeeee);\n}\n\nhtml[theme=dark],\nbody.vscode-dark {\n  --xr-font-color0: rgba(255, 255, 255, 1);\n  --xr-font-color2: rgba(255, 255, 255, 0.54);\n  --xr-font-color3: rgba(255, 255, 255, 0.38);\n  --xr-border-color: #1F1F1F;\n  --xr-disabled-color: #515151;\n  --xr-background-color: #111111;\n  --xr-background-color-row-even: #111111;\n  --xr-background-color-row-odd: #313131;\n}\n\n.xr-wrap {\n  display: block !important;\n  min-width: 300px;\n  max-width: 700px;\n}\n\n.xr-text-repr-fallback {\n  /* fallback to plain text repr when CSS is not injected (untrusted notebook) */\n  display: none;\n}\n\n.xr-header {\n  padding-top: 6px;\n  padding-bottom: 6px;\n  margin-bottom: 4px;\n  border-bottom: solid 1px var(--xr-border-color);\n}\n\n.xr-header > div,\n.xr-header > ul {\n  display: inline;\n  margin-top: 0;\n  margin-bottom: 0;\n}\n\n.xr-obj-type,\n.xr-array-name {\n  margin-left: 2px;\n  margin-right: 10px;\n}\n\n.xr-obj-type {\n  color: var(--xr-font-color2);\n}\n\n.xr-sections {\n  padding-left: 0 !important;\n  display: grid;\n  grid-template-columns: 150px auto auto 1fr 20px 20px;\n}\n\n.xr-section-item {\n  display: contents;\n}\n\n.xr-section-item input {\n  display: none;\n}\n\n.xr-section-item input + label {\n  color: var(--xr-disabled-color);\n}\n\n.xr-section-item input:enabled + label {\n  cursor: pointer;\n  color: var(--xr-font-color2);\n}\n\n.xr-section-item input:enabled + label:hover {\n  color: var(--xr-font-color0);\n}\n\n.xr-section-summary {\n  grid-column: 1;\n  color: var(--xr-font-color2);\n  font-weight: 500;\n}\n\n.xr-section-summary > span {\n  display: inline-block;\n  padding-left: 0.5em;\n}\n\n.xr-section-summary-in:disabled + label {\n  color: var(--xr-font-color2);\n}\n\n.xr-section-summary-in + label:before {\n  display: inline-block;\n  content: '►';\n  font-size: 11px;\n  width: 15px;\n  text-align: center;\n}\n\n.xr-section-summary-in:disabled + label:before {\n  color: var(--xr-disabled-color);\n}\n\n.xr-section-summary-in:checked + label:before {\n  content: '▼';\n}\n\n.xr-section-summary-in:checked + label > span {\n  display: none;\n}\n\n.xr-section-summary,\n.xr-section-inline-details {\n  padding-top: 4px;\n  padding-bottom: 4px;\n}\n\n.xr-section-inline-details {\n  grid-column: 2 / -1;\n}\n\n.xr-section-details {\n  display: none;\n  grid-column: 1 / -1;\n  margin-bottom: 5px;\n}\n\n.xr-section-summary-in:checked ~ .xr-section-details {\n  display: contents;\n}\n\n.xr-array-wrap {\n  grid-column: 1 / -1;\n  display: grid;\n  grid-template-columns: 20px auto;\n}\n\n.xr-array-wrap > label {\n  grid-column: 1;\n  vertical-align: top;\n}\n\n.xr-preview {\n  color: var(--xr-font-color3);\n}\n\n.xr-array-preview,\n.xr-array-data {\n  padding: 0 5px !important;\n  grid-column: 2;\n}\n\n.xr-array-data,\n.xr-array-in:checked ~ .xr-array-preview {\n  display: none;\n}\n\n.xr-array-in:checked ~ .xr-array-data,\n.xr-array-preview {\n  display: inline-block;\n}\n\n.xr-dim-list {\n  display: inline-block !important;\n  list-style: none;\n  padding: 0 !important;\n  margin: 0;\n}\n\n.xr-dim-list li {\n  display: inline-block;\n  padding: 0;\n  margin: 0;\n}\n\n.xr-dim-list:before {\n  content: '(';\n}\n\n.xr-dim-list:after {\n  content: ')';\n}\n\n.xr-dim-list li:not(:last-child):after {\n  content: ',';\n  padding-right: 5px;\n}\n\n.xr-has-index {\n  font-weight: bold;\n}\n\n.xr-var-list,\n.xr-var-item {\n  display: contents;\n}\n\n.xr-var-item > div,\n.xr-var-item label,\n.xr-var-item > .xr-var-name span {\n  background-color: var(--xr-background-color-row-even);\n  margin-bottom: 0;\n}\n\n.xr-var-item > .xr-var-name:hover span {\n  padding-right: 5px;\n}\n\n.xr-var-list > li:nth-child(odd) > div,\n.xr-var-list > li:nth-child(odd) > label,\n.xr-var-list > li:nth-child(odd) > .xr-var-name span {\n  background-color: var(--xr-background-color-row-odd);\n}\n\n.xr-var-name {\n  grid-column: 1;\n}\n\n.xr-var-dims {\n  grid-column: 2;\n}\n\n.xr-var-dtype {\n  grid-column: 3;\n  text-align: right;\n  color: var(--xr-font-color2);\n}\n\n.xr-var-preview {\n  grid-column: 4;\n}\n\n.xr-var-name,\n.xr-var-dims,\n.xr-var-dtype,\n.xr-preview,\n.xr-attrs dt {\n  white-space: nowrap;\n  overflow: hidden;\n  text-overflow: ellipsis;\n  padding-right: 10px;\n}\n\n.xr-var-name:hover,\n.xr-var-dims:hover,\n.xr-var-dtype:hover,\n.xr-attrs dt:hover {\n  overflow: visible;\n  width: auto;\n  z-index: 1;\n}\n\n.xr-var-attrs,\n.xr-var-data {\n  display: none;\n  background-color: var(--xr-background-color) !important;\n  padding-bottom: 5px !important;\n}\n\n.xr-var-attrs-in:checked ~ .xr-var-attrs,\n.xr-var-data-in:checked ~ .xr-var-data {\n  display: block;\n}\n\n.xr-var-data > table {\n  float: right;\n}\n\n.xr-var-name span,\n.xr-var-data,\n.xr-attrs {\n  padding-left: 25px !important;\n}\n\n.xr-attrs,\n.xr-var-attrs,\n.xr-var-data {\n  grid-column: 1 / -1;\n}\n\ndl.xr-attrs {\n  padding: 0;\n  margin: 0;\n  display: grid;\n  grid-template-columns: 125px auto;\n}\n\n.xr-attrs dt,\n.xr-attrs dd {\n  padding: 0;\n  margin: 0;\n  float: left;\n  padding-right: 10px;\n  width: auto;\n}\n\n.xr-attrs dt {\n  font-weight: normal;\n  grid-column: 1;\n}\n\n.xr-attrs dt:hover span {\n  display: inline-block;\n  background: var(--xr-background-color);\n  padding-right: 10px;\n}\n\n.xr-attrs dd {\n  grid-column: 2;\n  white-space: pre-wrap;\n  word-break: break-all;\n}\n\n.xr-icon-database,\n.xr-icon-file-text2 {\n  display: inline-block;\n  vertical-align: middle;\n  width: 1em;\n  height: 1.5em !important;\n  stroke-width: 0;\n  stroke: currentColor;\n  fill: currentColor;\n}\n</style><pre class='xr-text-repr-fallback'>&lt;xarray.DataArray &#x27;NDSI_Snow_Cover&#x27; (band: 1, y: 2400, x: 2400)&gt;\n[5760000 values with dtype=uint8]\nCoordinates:\n  * y            (y) float64 4.448e+06 4.447e+06 ... 3.337e+06 3.336e+06\n  * x            (x) float64 -1.223e+07 -1.223e+07 ... -1.112e+07 -1.112e+07\n  * band         (band) int32 1\n    spatial_ref  int32 0\nAttributes:\n    _FillValue:    255.0\n    scale_factor:  1.0\n    add_offset:    0.0\n    long_name:     NDSI snow cover from best observation of the day\n    units:         none</pre><div class='xr-wrap' style='display:none'><div class='xr-header'><div class='xr-obj-type'>xarray.DataArray</div><div class='xr-array-name'>'NDSI_Snow_Cover'</div><ul class='xr-dim-list'><li><span class='xr-has-index'>band</span>: 1</li><li><span class='xr-has-index'>y</span>: 2400</li><li><span class='xr-has-index'>x</span>: 2400</li></ul></div><ul class='xr-sections'><li class='xr-section-item'><div class='xr-array-wrap'><input id='section-917f6c2c-ec5f-462c-b92b-3559214cadcc' class='xr-array-in' type='checkbox' checked><label for='section-917f6c2c-ec5f-462c-b92b-3559214cadcc' title='Show/hide data repr'><svg class='icon xr-icon-database'><use xlink:href='#icon-database'></use></svg></label><div class='xr-array-preview xr-preview'><span>...</span></div><div class='xr-array-data'><pre>[5760000 values with dtype=uint8]</pre></div></div></li><li class='xr-section-item'><input id='section-84d30391-30fc-4d45-9dc6-db7bbecefdf5' class='xr-section-summary-in' type='checkbox'  checked><label for='section-84d30391-30fc-4d45-9dc6-db7bbecefdf5' class='xr-section-summary' >Coordinates: <span>(4)</span></label><div class='xr-section-inline-details'></div><div class='xr-section-details'><ul class='xr-var-list'><li class='xr-var-item'><div class='xr-var-name'><span class='xr-has-index'>y</span></div><div class='xr-var-dims'>(y)</div><div class='xr-var-dtype'>float64</div><div class='xr-var-preview xr-preview'>4.448e+06 4.447e+06 ... 3.336e+06</div><input id='attrs-472aea86-3768-47e7-9ef4-b845b43f9ce8' class='xr-var-attrs-in' type='checkbox' disabled><label for='attrs-472aea86-3768-47e7-9ef4-b845b43f9ce8' title='Show/Hide attributes'><svg class='icon xr-icon-file-text2'><use xlink:href='#icon-file-text2'></use></svg></label><input id='data-285185dc-4e18-48e9-98c7-eec6d39cafea' class='xr-var-data-in' type='checkbox'><label for='data-285185dc-4e18-48e9-98c7-eec6d39cafea' title='Show/Hide data repr'><svg class='icon xr-icon-database'><use xlink:href='#icon-database'></use></svg></label><div class='xr-var-attrs'><dl class='xr-attrs'></dl></div><div class='xr-var-data'><pre>array([4447570.422309, 4447107.109592, 4446643.796876, ..., 3337009.840791,\n       3336546.528075, 3336083.215358])</pre></div></li><li class='xr-var-item'><div class='xr-var-name'><span class='xr-has-index'>x</span></div><div class='xr-var-dims'>(x)</div><div class='xr-var-dtype'>float64</div><div class='xr-var-preview xr-preview'>-1.223e+07 ... -1.112e+07</div><input id='attrs-bf2dc427-680d-43dd-8d78-f90f34f8b210' class='xr-var-attrs-in' type='checkbox' disabled><label for='attrs-bf2dc427-680d-43dd-8d78-f90f34f8b210' title='Show/Hide attributes'><svg class='icon xr-icon-file-text2'><use xlink:href='#icon-file-text2'></use></svg></label><input id='data-506c95f8-2a9a-4720-9343-fc0cad07d4b2' class='xr-var-data-in' type='checkbox'><label for='data-506c95f8-2a9a-4720-9343-fc0cad07d4b2' title='Show/Hide data repr'><svg class='icon xr-icon-database'><use xlink:href='#icon-database'></use></svg></label><div class='xr-var-attrs'><dl class='xr-attrs'></dl></div><div class='xr-var-data'><pre>array([-12231224.059975, -12230760.747258, -12230297.434542, ...,\n       -11120663.478458, -11120200.165742, -11119736.853025])</pre></div></li><li class='xr-var-item'><div class='xr-var-name'><span class='xr-has-index'>band</span></div><div class='xr-var-dims'>(band)</div><div class='xr-var-dtype'>int32</div><div class='xr-var-preview xr-preview'>1</div><input id='attrs-15e42534-0f23-44cf-8497-fa163b59f397' class='xr-var-attrs-in' type='checkbox' disabled><label for='attrs-15e42534-0f23-44cf-8497-fa163b59f397' title='Show/Hide attributes'><svg class='icon xr-icon-file-text2'><use xlink:href='#icon-file-text2'></use></svg></label><input id='data-c395aa21-5d70-4fc1-a254-f9e69e7f8ede' class='xr-var-data-in' type='checkbox'><label for='data-c395aa21-5d70-4fc1-a254-f9e69e7f8ede' title='Show/Hide data repr'><svg class='icon xr-icon-database'><use xlink:href='#icon-database'></use></svg></label><div class='xr-var-attrs'><dl class='xr-attrs'></dl></div><div class='xr-var-data'><pre>array([1])</pre></div></li><li class='xr-var-item'><div class='xr-var-name'><span>spatial_ref</span></div><div class='xr-var-dims'>()</div><div class='xr-var-dtype'>int32</div><div class='xr-var-preview xr-preview'>0</div><input id='attrs-19444b22-4114-449c-8ff2-5b615fc52d17' class='xr-var-attrs-in' type='checkbox' ><label for='attrs-19444b22-4114-449c-8ff2-5b615fc52d17' title='Show/Hide attributes'><svg class='icon xr-icon-file-text2'><use xlink:href='#icon-file-text2'></use></svg></label><input id='data-630f14e0-901c-492e-86db-08eb114b99fd' class='xr-var-data-in' type='checkbox'><label for='data-630f14e0-901c-492e-86db-08eb114b99fd' title='Show/Hide data repr'><svg class='icon xr-icon-database'><use xlink:href='#icon-database'></use></svg></label><div class='xr-var-attrs'><dl class='xr-attrs'><dt><span>crs_wkt :</span></dt><dd>PROJCS[&quot;unnamed&quot;,GEOGCS[&quot;Unknown datum based upon the custom spheroid&quot;,DATUM[&quot;Not specified (based on custom spheroid)&quot;,SPHEROID[&quot;Custom spheroid&quot;,6371007.181,0]],PRIMEM[&quot;Greenwich&quot;,0],UNIT[&quot;degree&quot;,0.0174532925199433,AUTHORITY[&quot;EPSG&quot;,&quot;9122&quot;]]],PROJECTION[&quot;Sinusoidal&quot;],PARAMETER[&quot;longitude_of_center&quot;,0],PARAMETER[&quot;false_easting&quot;,0],PARAMETER[&quot;false_northing&quot;,0],UNIT[&quot;Meter&quot;,1],AXIS[&quot;Easting&quot;,EAST],AXIS[&quot;Northing&quot;,NORTH]]</dd><dt><span>semi_major_axis :</span></dt><dd>6371007.181</dd><dt><span>semi_minor_axis :</span></dt><dd>6371007.181</dd><dt><span>inverse_flattening :</span></dt><dd>0.0</dd><dt><span>reference_ellipsoid_name :</span></dt><dd>Custom spheroid</dd><dt><span>longitude_of_prime_meridian :</span></dt><dd>0.0</dd><dt><span>prime_meridian_name :</span></dt><dd>Greenwich</dd><dt><span>geographic_crs_name :</span></dt><dd>Unknown datum based upon the custom spheroid</dd><dt><span>horizontal_datum_name :</span></dt><dd>Not specified (based on custom spheroid)</dd><dt><span>projected_crs_name :</span></dt><dd>unnamed</dd><dt><span>grid_mapping_name :</span></dt><dd>sinusoidal</dd><dt><span>longitude_of_projection_origin :</span></dt><dd>0.0</dd><dt><span>false_easting :</span></dt><dd>0.0</dd><dt><span>false_northing :</span></dt><dd>0.0</dd><dt><span>spatial_ref :</span></dt><dd>PROJCS[&quot;unnamed&quot;,GEOGCS[&quot;Unknown datum based upon the custom spheroid&quot;,DATUM[&quot;Not specified (based on custom spheroid)&quot;,SPHEROID[&quot;Custom spheroid&quot;,6371007.181,0]],PRIMEM[&quot;Greenwich&quot;,0],UNIT[&quot;degree&quot;,0.0174532925199433,AUTHORITY[&quot;EPSG&quot;,&quot;9122&quot;]]],PROJECTION[&quot;Sinusoidal&quot;],PARAMETER[&quot;longitude_of_center&quot;,0],PARAMETER[&quot;false_easting&quot;,0],PARAMETER[&quot;false_northing&quot;,0],UNIT[&quot;Meter&quot;,1],AXIS[&quot;Easting&quot;,EAST],AXIS[&quot;Northing&quot;,NORTH]]</dd><dt><span>GeoTransform :</span></dt><dd>-12231455.716333 463.31271652749973 0.0 4447802.078667 0.0 -463.3127165279167</dd></dl></div><div class='xr-var-data'><pre>array(0)</pre></div></li></ul></div></li><li class='xr-section-item'><input id='section-d0f3cef7-ea11-4f16-bc7e-c18387d69dae' class='xr-section-summary-in' type='checkbox'  checked><label for='section-d0f3cef7-ea11-4f16-bc7e-c18387d69dae' class='xr-section-summary' >Attributes: <span>(5)</span></label><div class='xr-section-inline-details'></div><div class='xr-section-details'><dl class='xr-attrs'><dt><span>_FillValue :</span></dt><dd>255.0</dd><dt><span>scale_factor :</span></dt><dd>1.0</dd><dt><span>add_offset :</span></dt><dd>0.0</dd><dt><span>long_name :</span></dt><dd>NDSI snow cover from best observation of the day</dd><dt><span>units :</span></dt><dd>none</dd></dl></div></li></ul></div></div>"
     },
     "execution_count": 125,
     "metadata": {},
     "output_type": "execute_result"
    }
   ],
   "source": [
    "img\n"
   ],
   "metadata": {
    "collapsed": false,
    "pycharm": {
     "name": "#%%\n"
    }
   }
  },
  {
   "cell_type": "code",
   "execution_count": 126,
   "outputs": [],
   "source": [
    "val= img.sel(x=-11959000.0, y=3653000.0, method='nearest')\n",
    "val_f = img_flags.sel(x=-11959000.0, y=3653000.0, method='nearest')"
   ],
   "metadata": {
    "collapsed": false,
    "pycharm": {
     "name": "#%%\n"
    }
   }
  },
  {
   "cell_type": "code",
   "execution_count": 127,
   "outputs": [
    {
     "name": "stdout",
     "output_type": "stream",
     "text": [
      "<xarray.DataArray 'NDSI_Snow_Cover' (band: 1)>\n",
      "array([239], dtype=uint8)\n",
      "Coordinates:\n",
      "    y            float64 3.653e+06\n",
      "    x            float64 -1.196e+07\n",
      "  * band         (band) int32 1\n",
      "    spatial_ref  int32 0\n",
      "Attributes:\n",
      "    _FillValue:    255.0\n",
      "    scale_factor:  1.0\n",
      "    add_offset:    0.0\n",
      "    long_name:     NDSI snow cover from best observation of the day\n",
      "    units:         none\n",
      "<xarray.DataArray 'NDSI_Snow_Cover_Algorithm_Flags_QA' (band: 1)>\n",
      "array([239], dtype=uint8)\n",
      "Coordinates:\n",
      "    y            float64 3.653e+06\n",
      "    x            float64 -1.196e+07\n",
      "  * band         (band) int32 1\n",
      "    spatial_ref  int32 0\n",
      "Attributes:\n",
      "    _FillValue:    255.0\n",
      "    scale_factor:  1.0\n",
      "    add_offset:    0.0\n",
      "    long_name:     NDSI snow cover algorithm bit flags\n",
      "    units:         none\n"
     ]
    }
   ],
   "source": [
    "print(val)\n",
    "print(val_f)"
   ],
   "metadata": {
    "collapsed": false,
    "pycharm": {
     "name": "#%%\n"
    }
   }
  },
  {
   "cell_type": "code",
   "execution_count": 127,
   "outputs": [],
   "source": [],
   "metadata": {
    "collapsed": false,
    "pycharm": {
     "name": "#%%\n"
    }
   }
  },
  {
   "cell_type": "code",
   "execution_count": null,
   "outputs": [],
   "source": [],
   "metadata": {
    "collapsed": false,
    "pycharm": {
     "name": "#%%\n"
    }
   }
  }
 ],
 "metadata": {
  "kernelspec": {
   "display_name": "Python 3",
   "language": "python",
   "name": "python3"
  },
  "language_info": {
   "codemirror_mode": {
    "name": "ipython",
    "version": 2
   },
   "file_extension": ".py",
   "mimetype": "text/x-python",
   "name": "python",
   "nbconvert_exporter": "python",
   "pygments_lexer": "ipython2",
   "version": "2.7.6"
  }
 },
 "nbformat": 4,
 "nbformat_minor": 0
}