{
 "cells": [
  {
   "cell_type": "code",
   "execution_count": 1,
   "id": "160da665",
   "metadata": {},
   "outputs": [
    {
     "name": "stdout",
     "output_type": "stream",
     "text": [
      "Loading Data Files...\n",
      "Calculating and Adding Cell Polygon Center...\n",
      "Build Station Meta Dict...\n",
      "Done with initial Loading.\n",
      "Imputing Station Train Data with KNN...\n",
      "NaNs in station_test: 5085\n",
      "New NaN Count in station_test: 0\n",
      "Imputing Station Test Data with KNN...\n",
      "NaNs in station_test: 1272\n",
      "New NaN Count in station_test: 0\n"
     ]
    }
   ],
   "source": [
    "from datetime import datetime\n",
    "from math import cos, sin\n",
    "import pandas as pd\n",
    "import numpy as np\n",
    "import geopandas as gpd\n",
    "import matplotlib.pyplot as plt\n",
    "import tensorflow as tf\n",
    "from tensorflow import keras\n",
    "from tensorflow.keras import layers\n",
    "from lib.preprocessor import PreProcessor\n",
    "tf.random.set_seed(42)\n",
    "np.random.seed(42)\n",
    "\n",
    "pp = PreProcessor(data_path='data/')\n",
    "pp.station_knn_impute()\n",
    "x, y = pp.get_dataset()"
   ]
  },
  {
   "cell_type": "code",
   "execution_count": 2,
   "id": "202e8b2a",
   "metadata": {},
   "outputs": [],
   "source": [
    "model = keras.Sequential([\n",
    "    layers.Input(shape=(9,)),\n",
    "    layers.Dense(40, activation='relu'),\n",
    "    layers.Dense(40, activation='relu'),\n",
    "    layers.Dense(1, activation='relu')\n",
    "])\n",
    "opt = keras.optimizers.SGD(learning_rate=0.01)\n",
    "model.compile(loss='mean_absolute_error',\n",
    "              optimizer=opt)"
   ]
  },
  {
   "cell_type": "code",
   "execution_count": 3,
   "id": "440c2f73",
   "metadata": {},
   "outputs": [
    {
     "name": "stdout",
     "output_type": "stream",
     "text": [
      "Epoch 1/20\n",
      "7626/7626 [==============================] - 5s 623us/step - loss: 6.1224\n",
      "Epoch 2/20\n",
      "7626/7626 [==============================] - 5s 595us/step - loss: 5.7182\n",
      "Epoch 3/20\n",
      "7626/7626 [==============================] - 5s 590us/step - loss: 5.5459\n",
      "Epoch 4/20\n",
      "7626/7626 [==============================] - 5s 596us/step - loss: 5.4179\n",
      "Epoch 5/20\n",
      "7626/7626 [==============================] - 5s 599us/step - loss: 5.2593\n",
      "Epoch 6/20\n",
      "7626/7626 [==============================] - 5s 597us/step - loss: 5.0970\n",
      "Epoch 7/20\n",
      "7626/7626 [==============================] - 5s 597us/step - loss: 4.9942\n",
      "Epoch 8/20\n",
      "7626/7626 [==============================] - 5s 593us/step - loss: 4.9212\n",
      "Epoch 9/20\n",
      "7626/7626 [==============================] - 5s 595us/step - loss: 4.8660\n",
      "Epoch 10/20\n",
      "7626/7626 [==============================] - 5s 595us/step - loss: 4.8127\n",
      "Epoch 11/20\n",
      "7626/7626 [==============================] - 5s 598us/step - loss: 4.7588\n",
      "Epoch 12/20\n",
      "7626/7626 [==============================] - 5s 595us/step - loss: 4.7150\n",
      "Epoch 13/20\n",
      "7626/7626 [==============================] - 5s 599us/step - loss: 4.6637\n",
      "Epoch 14/20\n",
      "7626/7626 [==============================] - 5s 596us/step - loss: 4.6054\n",
      "Epoch 15/20\n",
      "7626/7626 [==============================] - 5s 598us/step - loss: 4.5562 \n",
      "Epoch 16/20\n",
      "7626/7626 [==============================] - 5s 604us/step - loss: 4.5232\n",
      "Epoch 17/20\n",
      "7626/7626 [==============================] - 5s 607us/step - loss: 4.4946\n",
      "Epoch 18/20\n",
      "7626/7626 [==============================] - 5s 597us/step - loss: 4.4650\n",
      "Epoch 19/20\n",
      "7626/7626 [==============================] - 5s 601us/step - loss: 4.4396\n",
      "Epoch 20/20\n",
      "7626/7626 [==============================] - 5s 602us/step - loss: 4.4129\n"
     ]
    },
    {
     "data": {
      "text/plain": [
       "<tensorflow.python.keras.callbacks.History at 0x1ffddee64c0>"
      ]
     },
     "execution_count": 3,
     "metadata": {},
     "output_type": "execute_result"
    }
   ],
   "source": [
    "model.fit(x, y, epochs=20, batch_size=32)"
   ]
  },
  {
   "cell_type": "code",
   "execution_count": 5,
   "id": "78ef82b8",
   "metadata": {},
   "outputs": [
    {
     "name": "stderr",
     "output_type": "stream",
     "text": [
      "\r",
      "  0%|                                                                                         | 0/9066 [00:00<?, ?it/s]"
     ]
    },
    {
     "name": "stdout",
     "output_type": "stream",
     "text": [
      "WARNING:tensorflow:Model was constructed with shape (None, 9) for input Tensor(\"input_1:0\", shape=(None, 9), dtype=float32), but it was called on an input with incompatible shape (None, 1, 9).\n"
     ]
    },
    {
     "name": "stderr",
     "output_type": "stream",
     "text": [
      "100%|██████████████████████████████████████████████████████████████████████████████| 9066/9066 [06:19<00:00, 23.88it/s]\n"
     ]
    }
   ],
   "source": [
    "submission_name = \"10_submission.csv\"\n",
    "pp.create_submission(submission_name, model)"
   ]
  }
 ],
 "metadata": {
  "kernelspec": {
   "display_name": "tf-gpu",
   "language": "python",
   "name": "tf-gpu"
  },
  "language_info": {
   "codemirror_mode": {
    "name": "ipython",
    "version": 3
   },
   "file_extension": ".py",
   "mimetype": "text/x-python",
   "name": "python",
   "nbconvert_exporter": "python",
   "pygments_lexer": "ipython3",
   "version": "3.8.12"
  }
 },
 "nbformat": 4,
 "nbformat_minor": 5
}
